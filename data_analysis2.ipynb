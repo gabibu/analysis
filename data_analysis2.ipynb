{
 "cells": [
  {
   "cell_type": "markdown",
   "metadata": {},
   "source": [
    "### Question 1 - Data exploration and visialization - practical"
   ]
  },
  {
   "cell_type": "markdown",
   "metadata": {},
   "source": [
    "Load Boston dataset from sklearn.\n",
    "Explore the data. follow th instructions below and make sure to support your answers with proper outputs and plots.\n",
    "When plotting, pay close attention to the range of the axis, and include axis labels and a title for the figure.\n",
    "\n",
    "1. describe the dataset. How many samples does it contain? How many features? What isis the data type for each variable?\n",
    "2. Produce a histogram and a boxplot of the nitric oxides concentration. describe the distribution.\n",
    "3. Produce a correlation matrix of all the features. Are there any correlated features? Can you identify one feature with unusual behaviour?\n",
    "4. Select the 2 pairs of features with the highest correlation (positive or negative) and plot 2 scatter plots with marginal histograms (JointPlot). \n",
    "5. Produce a cumulative histogram of the age variable and add two horizontal lines on the first and third quartile (on the cumulative count)\n",
    "6. Identify and report 2 “interesting” trends in the data. No need to provide statistical confidence at this point. "
   ]
  },
  {
   "cell_type": "code",
   "execution_count": 1,
   "metadata": {},
   "outputs": [],
   "source": [
    "from sklearn.datasets import load_boston\n",
    "import seaborn as sns\n",
    "import pandas as pd\n",
    "import numpy as np\n",
    "from scipy.stats import norm\n",
    "from math import sqrt\n",
    "import random\n",
    "np.random.seed(0)"
   ]
  },
  {
   "cell_type": "code",
   "execution_count": 2,
   "metadata": {},
   "outputs": [
    {
     "data": {
      "text/plain": [
       "dict_keys(['data', 'target', 'feature_names', 'DESCR', 'filename'])"
      ]
     },
     "execution_count": 2,
     "metadata": {},
     "output_type": "execute_result"
    }
   ],
   "source": [
    "boston = load_boston()\n",
    "boston.keys()"
   ]
  },
  {
   "cell_type": "code",
   "execution_count": 3,
   "metadata": {},
   "outputs": [
    {
     "name": "stdout",
     "output_type": "stream",
     "text": [
      "num of samples 506\n",
      "num of features 13\n"
     ]
    }
   ],
   "source": [
    "print('num of samples {}'.format(boston.data.shape[0]))\n",
    "print('num of features {}'.format(boston.data.shape[1]))"
   ]
  },
  {
   "cell_type": "code",
   "execution_count": 8,
   "metadata": {},
   "outputs": [
    {
     "data": {
      "text/plain": [
       "CRIM       float64\n",
       "ZN         float64\n",
       "INDUS      float64\n",
       "CHAS       float64\n",
       "NOX        float64\n",
       "RM         float64\n",
       "AGE        float64\n",
       "DIS        float64\n",
       "RAD        float64\n",
       "TAX        float64\n",
       "PTRATIO    float64\n",
       "B          float64\n",
       "LSTAT      float64\n",
       "MEDV       float64\n",
       "dtype: object"
      ]
     },
     "execution_count": 8,
     "metadata": {},
     "output_type": "execute_result"
    }
   ],
   "source": [
    "bosDF = pd.DataFrame(boston.data, columns= boston['feature_names'] )\n",
    "bosDF['MEDV'] = pd.Series(boston.target)\n",
    "\n",
    "bosDF.dtypes"
   ]
  },
  {
   "cell_type": "code",
   "execution_count": 9,
   "metadata": {},
   "outputs": [
    {
     "data": {
      "text/plain": [
       "array([[<matplotlib.axes._subplots.AxesSubplot object at 0x11f0dda50>]],\n",
       "      dtype=object)"
      ]
     },
     "execution_count": 9,
     "metadata": {},
     "output_type": "execute_result"
    },
    {
     "data": {
      "image/png": "[encoded data removed]",
      "text/plain": [
       "<Figure size 432x288 with 1 Axes>"
      ]
     },
     "metadata": {
      "needs_background": "light"
     },
     "output_type": "display_data"
    }
   ],
   "source": [
    "import matplotlib.pyplot as plt\n",
    "bosDF.hist('NOX')"
   ]
  },
  {
   "cell_type": "code",
   "execution_count": 10,
   "metadata": {},
   "outputs": [
    {
     "data": {
      "text/plain": [
       "{'whiskers': [<matplotlib.lines.Line2D at 0x11f1a0810>,\n",
       "  <matplotlib.lines.Line2D at 0x11f1aa950>],\n",
       " 'caps': [<matplotlib.lines.Line2D at 0x11f1aae50>,\n",
       "  <matplotlib.lines.Line2D at 0x11f131050>],\n",
       " 'boxes': [<matplotlib.lines.Line2D at 0x11f1a07d0>],\n",
       " 'medians': [<matplotlib.lines.Line2D at 0x11f1b08d0>],\n",
       " 'fliers': [<matplotlib.lines.Line2D at 0x11f1b0dd0>],\n",
       " 'means': []}"
      ]
     },
     "execution_count": 10,
     "metadata": {},
     "output_type": "execute_result"
    },
    {
     "data": {
      "image/png": "[encoded data removed]",
      "text/plain": [
       "<Figure size 432x288 with 1 Axes>"
      ]
     },
     "metadata": {
      "needs_background": "light"
     },
     "output_type": "display_data"
    }
   ],
   "source": [
    "plt.boxplot(bosDF['NOX'])"
   ]
  },
  {
   "cell_type": "markdown",
   "metadata": {},
   "source": [
    "we can see that 0.75 of the points are below 0.6** \n",
    "The Interquartile Range the represet 50% of the data is in small and also the lowest 25% are in small range that is close to the middle range but the data has long tail that contains the upper 25%. \n",
    "\n",
    "The data has positive skewness.\n"
   ]
  },
  {
   "cell_type": "code",
   "execution_count": 7,
   "metadata": {},
   "outputs": [
    {
     "data": {
      "text/html": [
       "<div>\n",
       "<style scoped>\n",
       "    .dataframe tbody tr th:only-of-type {\n",
       "        vertical-align: middle;\n",
       "    }\n",
       "\n",
       "    .dataframe tbody tr th {\n",
       "        vertical-align: top;\n",
       "    }\n",
       "\n",
       "    .dataframe thead th {\n",
       "        text-align: right;\n",
       "    }\n",
       "</style>\n",
       "<table border=\"1\" class=\"dataframe\">\n",
       "  <thead>\n",
       "    <tr style=\"text-align: right;\">\n",
       "      <th></th>\n",
       "      <th>CRIM</th>\n",
       "      <th>ZN</th>\n",
       "      <th>INDUS</th>\n",
       "      <th>CHAS</th>\n",
       "      <th>NOX</th>\n",
       "      <th>RM</th>\n",
       "      <th>AGE</th>\n",
       "      <th>DIS</th>\n",
       "      <th>RAD</th>\n",
       "      <th>TAX</th>\n",
       "      <th>PTRATIO</th>\n",
       "      <th>B</th>\n",
       "      <th>LSTAT</th>\n",
       "      <th>MEDV</th>\n",
       "    </tr>\n",
       "  </thead>\n",
       "  <tbody>\n",
       "    <tr>\n",
       "      <th>CRIM</th>\n",
       "      <td>1.000000</td>\n",
       "      <td>-0.200469</td>\n",
       "      <td>0.406583</td>\n",
       "      <td>-0.055892</td>\n",
       "      <td>0.420972</td>\n",
       "      <td>-0.219247</td>\n",
       "      <td>0.352734</td>\n",
       "      <td>-0.379670</td>\n",
       "      <td>0.625505</td>\n",
       "      <td>0.582764</td>\n",
       "      <td>0.289946</td>\n",
       "      <td>-0.385064</td>\n",
       "      <td>0.455621</td>\n",
       "      <td>-0.388305</td>\n",
       "    </tr>\n",
       "    <tr>\n",
       "      <th>ZN</th>\n",
       "      <td>-0.200469</td>\n",
       "      <td>1.000000</td>\n",
       "      <td>-0.533828</td>\n",
       "      <td>-0.042697</td>\n",
       "      <td>-0.516604</td>\n",
       "      <td>0.311991</td>\n",
       "      <td>-0.569537</td>\n",
       "      <td>0.664408</td>\n",
       "      <td>-0.311948</td>\n",
       "      <td>-0.314563</td>\n",
       "      <td>-0.391679</td>\n",
       "      <td>0.175520</td>\n",
       "      <td>-0.412995</td>\n",
       "      <td>0.360445</td>\n",
       "    </tr>\n",
       "    <tr>\n",
       "      <th>INDUS</th>\n",
       "      <td>0.406583</td>\n",
       "      <td>-0.533828</td>\n",
       "      <td>1.000000</td>\n",
       "      <td>0.062938</td>\n",
       "      <td>0.763651</td>\n",
       "      <td>-0.391676</td>\n",
       "      <td>0.644779</td>\n",
       "      <td>-0.708027</td>\n",
       "      <td>0.595129</td>\n",
       "      <td>0.720760</td>\n",
       "      <td>0.383248</td>\n",
       "      <td>-0.356977</td>\n",
       "      <td>0.603800</td>\n",
       "      <td>-0.483725</td>\n",
       "    </tr>\n",
       "    <tr>\n",
       "      <th>CHAS</th>\n",
       "      <td>-0.055892</td>\n",
       "      <td>-0.042697</td>\n",
       "      <td>0.062938</td>\n",
       "      <td>1.000000</td>\n",
       "      <td>0.091203</td>\n",
       "      <td>0.091251</td>\n",
       "      <td>0.086518</td>\n",
       "      <td>-0.099176</td>\n",
       "      <td>-0.007368</td>\n",
       "      <td>-0.035587</td>\n",
       "      <td>-0.121515</td>\n",
       "      <td>0.048788</td>\n",
       "      <td>-0.053929</td>\n",
       "      <td>0.175260</td>\n",
       "    </tr>\n",
       "    <tr>\n",
       "      <th>NOX</th>\n",
       "      <td>0.420972</td>\n",
       "      <td>-0.516604</td>\n",
       "      <td>0.763651</td>\n",
       "      <td>0.091203</td>\n",
       "      <td>1.000000</td>\n",
       "      <td>-0.302188</td>\n",
       "      <td>0.731470</td>\n",
       "      <td>-0.769230</td>\n",
       "      <td>0.611441</td>\n",
       "      <td>0.668023</td>\n",
       "      <td>0.188933</td>\n",
       "      <td>-0.380051</td>\n",
       "      <td>0.590879</td>\n",
       "      <td>-0.427321</td>\n",
       "    </tr>\n",
       "    <tr>\n",
       "      <th>RM</th>\n",
       "      <td>-0.219247</td>\n",
       "      <td>0.311991</td>\n",
       "      <td>-0.391676</td>\n",
       "      <td>0.091251</td>\n",
       "      <td>-0.302188</td>\n",
       "      <td>1.000000</td>\n",
       "      <td>-0.240265</td>\n",
       "      <td>0.205246</td>\n",
       "      <td>-0.209847</td>\n",
       "      <td>-0.292048</td>\n",
       "      <td>-0.355501</td>\n",
       "      <td>0.128069</td>\n",
       "      <td>-0.613808</td>\n",
       "      <td>0.695360</td>\n",
       "    </tr>\n",
       "    <tr>\n",
       "      <th>AGE</th>\n",
       "      <td>0.352734</td>\n",
       "      <td>-0.569537</td>\n",
       "      <td>0.644779</td>\n",
       "      <td>0.086518</td>\n",
       "      <td>0.731470</td>\n",
       "      <td>-0.240265</td>\n",
       "      <td>1.000000</td>\n",
       "      <td>-0.747881</td>\n",
       "      <td>0.456022</td>\n",
       "      <td>0.506456</td>\n",
       "      <td>0.261515</td>\n",
       "      <td>-0.273534</td>\n",
       "      <td>0.602339</td>\n",
       "      <td>-0.376955</td>\n",
       "    </tr>\n",
       "    <tr>\n",
       "      <th>DIS</th>\n",
       "      <td>-0.379670</td>\n",
       "      <td>0.664408</td>\n",
       "      <td>-0.708027</td>\n",
       "      <td>-0.099176</td>\n",
       "      <td>-0.769230</td>\n",
       "      <td>0.205246</td>\n",
       "      <td>-0.747881</td>\n",
       "      <td>1.000000</td>\n",
       "      <td>-0.494588</td>\n",
       "      <td>-0.534432</td>\n",
       "      <td>-0.232471</td>\n",
       "      <td>0.291512</td>\n",
       "      <td>-0.496996</td>\n",
       "      <td>0.249929</td>\n",
       "    </tr>\n",
       "    <tr>\n",
       "      <th>RAD</th>\n",
       "      <td>0.625505</td>\n",
       "      <td>-0.311948</td>\n",
       "      <td>0.595129</td>\n",
       "      <td>-0.007368</td>\n",
       "      <td>0.611441</td>\n",
       "      <td>-0.209847</td>\n",
       "      <td>0.456022</td>\n",
       "      <td>-0.494588</td>\n",
       "      <td>1.000000</td>\n",
       "      <td>0.910228</td>\n",
       "      <td>0.464741</td>\n",
       "      <td>-0.444413</td>\n",
       "      <td>0.488676</td>\n",
       "      <td>-0.381626</td>\n",
       "    </tr>\n",
       "    <tr>\n",
       "      <th>TAX</th>\n",
       "      <td>0.582764</td>\n",
       "      <td>-0.314563</td>\n",
       "      <td>0.720760</td>\n",
       "      <td>-0.035587</td>\n",
       "      <td>0.668023</td>\n",
       "      <td>-0.292048</td>\n",
       "      <td>0.506456</td>\n",
       "      <td>-0.534432</td>\n",
       "      <td>0.910228</td>\n",
       "      <td>1.000000</td>\n",
       "      <td>0.460853</td>\n",
       "      <td>-0.441808</td>\n",
       "      <td>0.543993</td>\n",
       "      <td>-0.468536</td>\n",
       "    </tr>\n",
       "    <tr>\n",
       "      <th>PTRATIO</th>\n",
       "      <td>0.289946</td>\n",
       "      <td>-0.391679</td>\n",
       "      <td>0.383248</td>\n",
       "      <td>-0.121515</td>\n",
       "      <td>0.188933</td>\n",
       "      <td>-0.355501</td>\n",
       "      <td>0.261515</td>\n",
       "      <td>-0.232471</td>\n",
       "      <td>0.464741</td>\n",
       "      <td>0.460853</td>\n",
       "      <td>1.000000</td>\n",
       "      <td>-0.177383</td>\n",
       "      <td>0.374044</td>\n",
       "      <td>-0.507787</td>\n",
       "    </tr>\n",
       "    <tr>\n",
       "      <th>B</th>\n",
       "      <td>-0.385064</td>\n",
       "      <td>0.175520</td>\n",
       "      <td>-0.356977</td>\n",
       "      <td>0.048788</td>\n",
       "      <td>-0.380051</td>\n",
       "      <td>0.128069</td>\n",
       "      <td>-0.273534</td>\n",
       "      <td>0.291512</td>\n",
       "      <td>-0.444413</td>\n",
       "      <td>-0.441808</td>\n",
       "      <td>-0.177383</td>\n",
       "      <td>1.000000</td>\n",
       "      <td>-0.366087</td>\n",
       "      <td>0.333461</td>\n",
       "    </tr>\n",
       "    <tr>\n",
       "      <th>LSTAT</th>\n",
       "      <td>0.455621</td>\n",
       "      <td>-0.412995</td>\n",
       "      <td>0.603800</td>\n",
       "      <td>-0.053929</td>\n",
       "      <td>0.590879</td>\n",
       "      <td>-0.613808</td>\n",
       "      <td>0.602339</td>\n",
       "      <td>-0.496996</td>\n",
       "      <td>0.488676</td>\n",
       "      <td>0.543993</td>\n",
       "      <td>0.374044</td>\n",
       "      <td>-0.366087</td>\n",
       "      <td>1.000000</td>\n",
       "      <td>-0.737663</td>\n",
       "    </tr>\n",
       "    <tr>\n",
       "      <th>MEDV</th>\n",
       "      <td>-0.388305</td>\n",
       "      <td>0.360445</td>\n",
       "      <td>-0.483725</td>\n",
       "      <td>0.175260</td>\n",
       "      <td>-0.427321</td>\n",
       "      <td>0.695360</td>\n",
       "      <td>-0.376955</td>\n",
       "      <td>0.249929</td>\n",
       "      <td>-0.381626</td>\n",
       "      <td>-0.468536</td>\n",
       "      <td>-0.507787</td>\n",
       "      <td>0.333461</td>\n",
       "      <td>-0.737663</td>\n",
       "      <td>1.000000</td>\n",
       "    </tr>\n",
       "  </tbody>\n",
       "</table>\n",
       "</div>"
      ],
      "text/plain": [
       "             CRIM        ZN     INDUS      CHAS       NOX        RM       AGE  \\\n",
       "CRIM     1.000000 -0.200469  0.406583 -0.055892  0.420972 -0.219247  0.352734   \n",
       "ZN      -0.200469  1.000000 -0.533828 -0.042697 -0.516604  0.311991 -0.569537   \n",
       "INDUS    0.406583 -0.533828  1.000000  0.062938  0.763651 -0.391676  0.644779   \n",
       "CHAS    -0.055892 -0.042697  0.062938  1.000000  0.091203  0.091251  0.086518   \n",
       "NOX      0.420972 -0.516604  0.763651  0.091203  1.000000 -0.302188  0.731470   \n",
       "RM      -0.219247  0.311991 -0.391676  0.091251 -0.302188  1.000000 -0.240265   \n",
       "AGE      0.352734 -0.569537  0.644779  0.086518  0.731470 -0.240265  1.000000   \n",
       "DIS     -0.379670  0.664408 -0.708027 -0.099176 -0.769230  0.205246 -0.747881   \n",
       "RAD      0.625505 -0.311948  0.595129 -0.007368  0.611441 -0.209847  0.456022   \n",
       "TAX      0.582764 -0.314563  0.720760 -0.035587  0.668023 -0.292048  0.506456   \n",
       "PTRATIO  0.289946 -0.391679  0.383248 -0.121515  0.188933 -0.355501  0.261515   \n",
       "B       -0.385064  0.175520 -0.356977  0.048788 -0.380051  0.128069 -0.273534   \n",
       "LSTAT    0.455621 -0.412995  0.603800 -0.053929  0.590879 -0.613808  0.602339   \n",
       "MEDV    -0.388305  0.360445 -0.483725  0.175260 -0.427321  0.695360 -0.376955   \n",
       "\n",
       "              DIS       RAD       TAX   PTRATIO         B     LSTAT      MEDV  \n",
       "CRIM    -0.379670  0.625505  0.582764  0.289946 -0.385064  0.455621 -0.388305  \n",
       "ZN       0.664408 -0.311948 -0.314563 -0.391679  0.175520 -0.412995  0.360445  \n",
       "INDUS   -0.708027  0.595129  0.720760  0.383248 -0.356977  0.603800 -0.483725  \n",
       "CHAS    -0.099176 -0.007368 -0.035587 -0.121515  0.048788 -0.053929  0.175260  \n",
       "NOX     -0.769230  0.611441  0.668023  0.188933 -0.380051  0.590879 -0.427321  \n",
       "RM       0.205246 -0.209847 -0.292048 -0.355501  0.128069 -0.613808  0.695360  \n",
       "AGE     -0.747881  0.456022  0.506456  0.261515 -0.273534  0.602339 -0.376955  \n",
       "DIS      1.000000 -0.494588 -0.534432 -0.232471  0.291512 -0.496996  0.249929  \n",
       "RAD     -0.494588  1.000000  0.910228  0.464741 -0.444413  0.488676 -0.381626  \n",
       "TAX     -0.534432  0.910228  1.000000  0.460853 -0.441808  0.543993 -0.468536  \n",
       "PTRATIO -0.232471  0.464741  0.460853  1.000000 -0.177383  0.374044 -0.507787  \n",
       "B        0.291512 -0.444413 -0.441808 -0.177383  1.000000 -0.366087  0.333461  \n",
       "LSTAT   -0.496996  0.488676  0.543993  0.374044 -0.366087  1.000000 -0.737663  \n",
       "MEDV     0.249929 -0.381626 -0.468536 -0.507787  0.333461 -0.737663  1.000000  "
      ]
     },
     "execution_count": 7,
     "metadata": {},
     "output_type": "execute_result"
    },
    {
     "data": {
      "text/plain": [
       "<Figure size 864x720 with 0 Axes>"
      ]
     },
     "metadata": {},
     "output_type": "display_data"
    }
   ],
   "source": [
    "plt.figure(figsize=(12,10))\n",
    "cor = bosDF.corr()\n",
    "cor"
   ]
  },
  {
   "cell_type": "code",
   "execution_count": 11,
   "metadata": {},
   "outputs": [
    {
     "data": {
      "text/plain": [
       "[(('RAD', 'TAX'), 0.9102281885331822),\n",
       " (('DIS', 'NOX'), 0.7692301132258261),\n",
       " (('INDUS', 'NOX'), 0.7636514469209145),\n",
       " (('AGE', 'DIS'), 0.7478805408686316),\n",
       " (('LSTAT', 'MEDV'), 0.7376627261740143),\n",
       " (('AGE', 'NOX'), 0.7314701037859579),\n",
       " (('INDUS', 'TAX'), 0.7207601799515441),\n",
       " (('DIS', 'INDUS'), 0.7080269887427683),\n",
       " (('MEDV', 'RM'), 0.6953599470715389),\n",
       " (('NOX', 'TAX'), 0.6680232004030201),\n",
       " (('DIS', 'ZN'), 0.6644082227621132),\n",
       " (('AGE', 'INDUS'), 0.644778511355255),\n",
       " (('CRIM', 'RAD'), 0.6255051452626011),\n",
       " (('LSTAT', 'RM'), 0.6138082718663957),\n",
       " (('NOX', 'RAD'), 0.6114405634855754),\n",
       " (('INDUS', 'LSTAT'), 0.6037997164766213),\n",
       " (('AGE', 'LSTAT'), 0.6023385287262399),\n",
       " (('INDUS', 'RAD'), 0.5951292746038486),\n",
       " (('LSTAT', 'NOX'), 0.5908789208808449),\n",
       " (('CRIM', 'TAX'), 0.5827643120325845),\n",
       " (('AGE', 'ZN'), 0.5695373420992127),\n",
       " (('LSTAT', 'TAX'), 0.543993412001569),\n",
       " (('DIS', 'TAX'), 0.5344315844084561),\n",
       " (('INDUS', 'ZN'), 0.5338281863044747),\n",
       " (('NOX', 'ZN'), 0.5166037078279853),\n",
       " (('MEDV', 'PTRATIO'), 0.507786685537561),\n",
       " (('AGE', 'TAX'), 0.506455593550705)]"
      ]
     },
     "execution_count": 11,
     "metadata": {},
     "output_type": "execute_result"
    }
   ],
   "source": [
    "correlated_features = set()\n",
    "\n",
    "for col in cor.columns:\n",
    "    \n",
    "    cor_target = abs(cor[col])\n",
    "    relevant_features = cor_target[cor_target>0.5]\n",
    "    \n",
    "    for (column_name, correlation_value) in zip(relevant_features.index, relevant_features):\n",
    "        if column_name == col:\n",
    "            continue\n",
    "        \n",
    "        key = tuple(sorted([col, column_name]))\n",
    "        \n",
    "        correlated_features.add((key, correlation_value))\n",
    "    \n",
    "correlated_features = sorted(correlated_features, key = lambda x: abs(x[1]), reverse = True)\n",
    "correlated_features"
   ]
  },
  {
   "cell_type": "code",
   "execution_count": 10,
   "metadata": {},
   "outputs": [
    {
     "data": {
      "text/plain": [
       "<seaborn.axisgrid.JointGrid at 0x11f9de850>"
      ]
     },
     "execution_count": 10,
     "metadata": {},
     "output_type": "execute_result"
    },
    {
     "data": {
      "image/png": "[encoded data removed]",
      "text/plain": [
       "<Figure size 432x432 with 3 Axes>"
      ]
     },
     "metadata": {
      "needs_background": "light"
     },
     "output_type": "display_data"
    }
   ],
   "source": [
    "most_correlated = [cols for cols,_ in correlated_features[0:2]]\n",
    "\n",
    "sns.jointplot(x=most_correlated[0][0], y=most_correlated[0][1], data=bosDF)\n"
   ]
  },
  {
   "cell_type": "code",
   "execution_count": 11,
   "metadata": {},
   "outputs": [
    {
     "data": {
      "text/plain": [
       "<seaborn.axisgrid.JointGrid at 0x11fad80d0>"
      ]
     },
     "execution_count": 11,
     "metadata": {},
     "output_type": "execute_result"
    },
    {
     "data": {
      "image/png": "[encoded data removed]",
      "text/plain": [
       "<Figure size 432x432 with 3 Axes>"
      ]
     },
     "metadata": {
      "needs_background": "light"
     },
     "output_type": "display_data"
    }
   ],
   "source": [
    "sns.jointplot(x=most_correlated[1][0], y=most_correlated[1][1], data=bosDF)"
   ]
  },
  {
   "cell_type": "code",
   "execution_count": 12,
   "metadata": {},
   "outputs": [
    {
     "data": {
      "image/png": "[encoded data removed]",
      "text/plain": [
       "<Figure size 720x288 with 1 Axes>"
      ]
     },
     "metadata": {
      "needs_background": "light"
     },
     "output_type": "display_data"
    }
   ],
   "source": [
    "from scipy import stats\n",
    "import numpy as np \n",
    "\n",
    "res = stats.cumfreq(bosDF['AGE'].tolist(), numbins=25)\n",
    "x = res.lowerlimit + np.linspace(0, res.binsize*res.cumcount.size,\n",
    "                                 res.cumcount.size)\n",
    "\n",
    "fig = plt.figure(figsize=(10, 4))\n",
    "ax1 = fig.add_subplot(1, 2, 2)\n",
    "\n",
    "values = []\n",
    "for val, count in zip(x,res.cumcount):\n",
    "    for _ in range(int(count)):\n",
    "        values.append(val)\n",
    "        \n",
    "ax1.bar(x, res.cumcount, width=res.binsize)\n",
    "ax1.set_title('Cumulative histogram')\n",
    "ax1.set_xlim([x.min(), x.max()])\n",
    "\n",
    "xx1 = np.percentile(values, 25) \n",
    "xx3 = np.percentile(values, 75) \n",
    "\n",
    "plt.axhline(y=xx1, color='r', linestyle='-')\n",
    "plt.axhline(y=xx3, color='r', linestyle='-')\n",
    "\n",
    "plt.show()"
   ]
  },
  {
   "cell_type": "code",
   "execution_count": 17,
   "metadata": {},
   "outputs": [
    {
     "data": {
      "text/plain": [
       "CRIM       0.352734\n",
       "ZN        -0.569537\n",
       "INDUS      0.644779\n",
       "CHAS       0.086518\n",
       "NOX        0.731470\n",
       "RM        -0.240265\n",
       "AGE        1.000000\n",
       "DIS       -0.747881\n",
       "RAD        0.456022\n",
       "TAX        0.506456\n",
       "PTRATIO    0.261515\n",
       "B         -0.273534\n",
       "LSTAT      0.602339\n",
       "MEDV      -0.376955\n",
       "Name: AGE, dtype: float64"
      ]
     },
     "execution_count": 17,
     "metadata": {},
     "output_type": "execute_result"
    }
   ],
   "source": [
    "bosDF.corr()['AGE']"
   ]
  },
  {
   "cell_type": "markdown",
   "metadata": {},
   "source": [
    "#1.6"
   ]
  },
  {
   "cell_type": "markdown",
   "metadata": {},
   "source": [
    "# 1. DIS and INDUS have -0.7 correlation - the closer we are to employment centers the more retail business acres per town.\n",
    "\n",
    "# 2. RAD has negative correlation with MEDV.\n",
    "\n",
    "# 3. TAX and RAD have 0.9 correlation.\n",
    "\n",
    "# 4. TAX and INDUS have 0.7 correlation.\n"
   ]
  },
  {
   "cell_type": "code",
   "execution_count": 28,
   "metadata": {},
   "outputs": [
    {
     "data": {
      "text/html": [
       "<div>\n",
       "<style scoped>\n",
       "    .dataframe tbody tr th:only-of-type {\n",
       "        vertical-align: middle;\n",
       "    }\n",
       "\n",
       "    .dataframe tbody tr th {\n",
       "        vertical-align: top;\n",
       "    }\n",
       "\n",
       "    .dataframe thead th {\n",
       "        text-align: right;\n",
       "    }\n",
       "</style>\n",
       "<table border=\"1\" class=\"dataframe\">\n",
       "  <thead>\n",
       "    <tr style=\"text-align: right;\">\n",
       "      <th></th>\n",
       "      <th>AGE</th>\n",
       "      <th>MEDV</th>\n",
       "      <th>CRIM</th>\n",
       "      <th>RM</th>\n",
       "      <th>INDUS</th>\n",
       "      <th>DIS</th>\n",
       "      <th>RAD</th>\n",
       "      <th>TAX</th>\n",
       "      <th>LSTAT</th>\n",
       "    </tr>\n",
       "  </thead>\n",
       "  <tbody>\n",
       "    <tr>\n",
       "      <th>AGE</th>\n",
       "      <td>1.000000</td>\n",
       "      <td>-0.376955</td>\n",
       "      <td>0.352734</td>\n",
       "      <td>-0.240265</td>\n",
       "      <td>0.644779</td>\n",
       "      <td>-0.747881</td>\n",
       "      <td>0.456022</td>\n",
       "      <td>0.506456</td>\n",
       "      <td>0.602339</td>\n",
       "    </tr>\n",
       "    <tr>\n",
       "      <th>MEDV</th>\n",
       "      <td>-0.376955</td>\n",
       "      <td>1.000000</td>\n",
       "      <td>-0.388305</td>\n",
       "      <td>0.695360</td>\n",
       "      <td>-0.483725</td>\n",
       "      <td>0.249929</td>\n",
       "      <td>-0.381626</td>\n",
       "      <td>-0.468536</td>\n",
       "      <td>-0.737663</td>\n",
       "    </tr>\n",
       "    <tr>\n",
       "      <th>CRIM</th>\n",
       "      <td>0.352734</td>\n",
       "      <td>-0.388305</td>\n",
       "      <td>1.000000</td>\n",
       "      <td>-0.219247</td>\n",
       "      <td>0.406583</td>\n",
       "      <td>-0.379670</td>\n",
       "      <td>0.625505</td>\n",
       "      <td>0.582764</td>\n",
       "      <td>0.455621</td>\n",
       "    </tr>\n",
       "    <tr>\n",
       "      <th>RM</th>\n",
       "      <td>-0.240265</td>\n",
       "      <td>0.695360</td>\n",
       "      <td>-0.219247</td>\n",
       "      <td>1.000000</td>\n",
       "      <td>-0.391676</td>\n",
       "      <td>0.205246</td>\n",
       "      <td>-0.209847</td>\n",
       "      <td>-0.292048</td>\n",
       "      <td>-0.613808</td>\n",
       "    </tr>\n",
       "    <tr>\n",
       "      <th>INDUS</th>\n",
       "      <td>0.644779</td>\n",
       "      <td>-0.483725</td>\n",
       "      <td>0.406583</td>\n",
       "      <td>-0.391676</td>\n",
       "      <td>1.000000</td>\n",
       "      <td>-0.708027</td>\n",
       "      <td>0.595129</td>\n",
       "      <td>0.720760</td>\n",
       "      <td>0.603800</td>\n",
       "    </tr>\n",
       "    <tr>\n",
       "      <th>DIS</th>\n",
       "      <td>-0.747881</td>\n",
       "      <td>0.249929</td>\n",
       "      <td>-0.379670</td>\n",
       "      <td>0.205246</td>\n",
       "      <td>-0.708027</td>\n",
       "      <td>1.000000</td>\n",
       "      <td>-0.494588</td>\n",
       "      <td>-0.534432</td>\n",
       "      <td>-0.496996</td>\n",
       "    </tr>\n",
       "    <tr>\n",
       "      <th>RAD</th>\n",
       "      <td>0.456022</td>\n",
       "      <td>-0.381626</td>\n",
       "      <td>0.625505</td>\n",
       "      <td>-0.209847</td>\n",
       "      <td>0.595129</td>\n",
       "      <td>-0.494588</td>\n",
       "      <td>1.000000</td>\n",
       "      <td>0.910228</td>\n",
       "      <td>0.488676</td>\n",
       "    </tr>\n",
       "    <tr>\n",
       "      <th>TAX</th>\n",
       "      <td>0.506456</td>\n",
       "      <td>-0.468536</td>\n",
       "      <td>0.582764</td>\n",
       "      <td>-0.292048</td>\n",
       "      <td>0.720760</td>\n",
       "      <td>-0.534432</td>\n",
       "      <td>0.910228</td>\n",
       "      <td>1.000000</td>\n",
       "      <td>0.543993</td>\n",
       "    </tr>\n",
       "    <tr>\n",
       "      <th>LSTAT</th>\n",
       "      <td>0.602339</td>\n",
       "      <td>-0.737663</td>\n",
       "      <td>0.455621</td>\n",
       "      <td>-0.613808</td>\n",
       "      <td>0.603800</td>\n",
       "      <td>-0.496996</td>\n",
       "      <td>0.488676</td>\n",
       "      <td>0.543993</td>\n",
       "      <td>1.000000</td>\n",
       "    </tr>\n",
       "  </tbody>\n",
       "</table>\n",
       "</div>"
      ],
      "text/plain": [
       "            AGE      MEDV      CRIM        RM     INDUS       DIS       RAD  \\\n",
       "AGE    1.000000 -0.376955  0.352734 -0.240265  0.644779 -0.747881  0.456022   \n",
       "MEDV  -0.376955  1.000000 -0.388305  0.695360 -0.483725  0.249929 -0.381626   \n",
       "CRIM   0.352734 -0.388305  1.000000 -0.219247  0.406583 -0.379670  0.625505   \n",
       "RM    -0.240265  0.695360 -0.219247  1.000000 -0.391676  0.205246 -0.209847   \n",
       "INDUS  0.644779 -0.483725  0.406583 -0.391676  1.000000 -0.708027  0.595129   \n",
       "DIS   -0.747881  0.249929 -0.379670  0.205246 -0.708027  1.000000 -0.494588   \n",
       "RAD    0.456022 -0.381626  0.625505 -0.209847  0.595129 -0.494588  1.000000   \n",
       "TAX    0.506456 -0.468536  0.582764 -0.292048  0.720760 -0.534432  0.910228   \n",
       "LSTAT  0.602339 -0.737663  0.455621 -0.613808  0.603800 -0.496996  0.488676   \n",
       "\n",
       "            TAX     LSTAT  \n",
       "AGE    0.506456  0.602339  \n",
       "MEDV  -0.468536 -0.737663  \n",
       "CRIM   0.582764  0.455621  \n",
       "RM    -0.292048 -0.613808  \n",
       "INDUS  0.720760  0.603800  \n",
       "DIS   -0.534432 -0.496996  \n",
       "RAD    0.910228  0.488676  \n",
       "TAX    1.000000  0.543993  \n",
       "LSTAT  0.543993  1.000000  "
      ]
     },
     "execution_count": 28,
     "metadata": {},
     "output_type": "execute_result"
    }
   ],
   "source": [
    "bosDF[['AGE', 'MEDV', 'CRIM', 'RM', 'INDUS', 'DIS', 'RAD', 'TAX', 'LSTAT']].corr()"
   ]
  },
  {
   "cell_type": "markdown",
   "metadata": {},
   "source": [
    "### Question 2 - Independence and conditional independence"
   ]
  },
  {
   "cell_type": "markdown",
   "metadata": {},
   "source": [
    "#### 2.A\n",
    "Can we define a three dimensional multivariate gaussian that is pairwise-independent but not collectivley independent?\n",
    "If your anser is yes, provide an example.\n",
    "If your answer is no, provide a proof."
   ]
  },
  {
   "cell_type": "markdown",
   "metadata": {},
   "source": [
    "### 2.A\n",
    "No.\n",
    "Proof:\n",
    "$$If \\space 𝐗 \\space is \\space multivariate  \\space gaussian \\space and  \\space its \\space elements \\space are \\space pairwise-independent –>  𝐶𝑜𝑣(𝑋𝑖,𝑋𝑗) = 0 for all 𝑖≠𝑗.\\\\\n",
    "𝚺 \\space is \\space a \\space diagonal \\space matrix \\space so \\space \\boldsymbol{\\Sigma}^{-1} \\space The \\space 𝑖th \\space diagonal \\space element \\space of \\space \\boldsymbol{\\Sigma}^{-1} \\space is \\space 1/\\sigma_i^2 \\space where \\space \\sigma_i^2 = Var(X_i).\\\\\n",
    "(\\mathbf{x} - \\boldsymbol{\\mu})\\boldsymbol{\\Sigma}^{-1} (\\mathbf{x} - \\boldsymbol{\\mu}) ~ = ~ \\sum_{i=1}^n \\frac{(x_i - \\boldsymbol{\\mu}(i))^2}{\\sigma_i^2}\\\\\n",
    "\\exp\\big{(} -\\frac{1}{2} (\\mathbf{x} - \\boldsymbol{\\mu})\\boldsymbol{\\Sigma}^{-1} (\\mathbf{x} - \\boldsymbol{\\mu}) \\big{)} ~ = ~ \\prod_{i=1}^n \\exp\\big{(}-\\frac{1}{2} \\big{(}\\frac{x_i - \\boldsymbol{\\mu}(i)}{\\sigma_i}\\big{)}^2\\big{)}\\\\\n",
    "In \\space the \\space constant \\space of \\space integration,\\space \\det(\\boldsymbol{\\Sigma}) = \\sigma_1^2 \\sigma_2^2 \\cdots \\sigma_n^2.\\\\\n",
    "so \\space the \\space density \\space of \\space 𝐗 \\space is \\space the \\space product \\space of \\space the \\space marginal \\space normal \\space densities.$$"
   ]
  },
  {
   "cell_type": "markdown",
   "metadata": {},
   "source": [
    "#### 2.B\n",
    "Let $\\ X, Y \\ $ and $Z$  be discrete random variables with $\\ n, m \\ $ and $k$ possible outcomes respectivley.\n",
    "\n",
    "How many parameters define the joint distribution of $\\ X, Y \\ $ and $Z$?"
   ]
  },
  {
   "cell_type": "markdown",
   "metadata": {},
   "source": [
    "## 2.B n * m * k"
   ]
  },
  {
   "cell_type": "markdown",
   "metadata": {},
   "source": [
    "#### 2.C\n",
    "For the same random variables from the previous section, how many parameters define the joint distribution of $\\ X, Y \\ $ and $Z$ if we now know that they are independent?"
   ]
  },
  {
   "cell_type": "markdown",
   "metadata": {},
   "source": [
    "# 2.c n+ m+ k"
   ]
  },
  {
   "cell_type": "markdown",
   "metadata": {},
   "source": [
    "#### 2.D\n",
    "For the same random variables from the previous section, how many parameters define the joint distribution of $\\ X, Y \\ $ and $Z$ if we now know that $X$ and $Y$ are conditionaly independent given $Z$?"
   ]
  },
  {
   "cell_type": "markdown",
   "metadata": {},
   "source": [
    "# 2.D n*k + m*k"
   ]
  },
  {
   "cell_type": "markdown",
   "metadata": {},
   "source": [
    "#### 2.E\n",
    "For the random variables from the previous section, let $n=m=2$ and $k=2$. Give and example for a joint distribution of $\\ X, Y \\ $ and $Z$ where $X$ and $Y$ are conditionaly independent given $Z$?"
   ]
  },
  {
   "cell_type": "markdown",
   "metadata": {},
   "source": [
    "box with two coins \n",
    "Coin 1 is regular p(h) = p(t) = 0.5 \n",
    "Coin 2  p(h) = 1 p(t) = 0\n",
    "\n",
    "X = First coin toss results in an H.\n",
    "Y = Second coin toss results in an H.\n",
    "Z = Coin 1 has been selected.\n",
    "\n",
    "$$P(X|Z)=P(Y|Z)=\\frac{1}{2}$$\n",
    "$$P(X \\cap Y|Z)=\\frac{1}{2}.\\frac{1}{2}=\\frac{1}{4}$$\n",
    "$$P(X)=P(Y)=\\frac{3}{4}$$\n",
    "$$P(X∩Y)=\\frac{5}{8}$$\n",
    "$$P(X∩Y/Z)=\\frac{1}{4}$$\n",
    "$$P(X∩Y) =\\frac{5}{8} \\neq P(X) × P(Y) =\\frac{9}{16} $$\n",
    "this means that X and Y are not independent.\n",
    "Given Z they are independent \n",
    "$$ P(X∩Y/Z)=\\frac{1}{4} = P(X/Z) × P(Y/Z) = \\frac{1}{2} × \\frac{1}{2} = \\frac{1}{4}  $$"
   ]
  },
  {
   "cell_type": "markdown",
   "metadata": {},
   "source": [
    "### Question 3 - Gaussian mixtures – parameter estimation and generation "
   ]
  },
  {
   "cell_type": "markdown",
   "metadata": {},
   "source": [
    "Consider the data provided in GMD_2021.csv\n",
    "Assume that the data comes from a Gaussian mixture distribution (GMD) with $k=3\\ \\ $. Furthermore, assume that $\\mu_{1}=4, \\mu_{2}=9, \\sigma_{1}=\\sigma_{2}=0.5, \\sigma_3=1.5$ and $w_2=0.25$.\n",
    "\n",
    "Read the data and answer the following questions."
   ]
  },
  {
   "cell_type": "markdown",
   "metadata": {},
   "source": [
    "#### 3.A\n",
    "Provide an estimate for the other parameters of the distribution in two different ways."
   ]
  },
  {
   "cell_type": "code",
   "execution_count": 33,
   "metadata": {},
   "outputs": [
    {
     "data": {
      "text/plain": [
       "(800, [3.5752529141091483, 4.105491205555867, 3.903642436599189])"
      ]
     },
     "execution_count": 33,
     "metadata": {},
     "output_type": "execute_result"
    }
   ],
   "source": [
    "values = pd.read_csv('GMD_2021.csv',  header = None, index_col = 0, names=['val'])['val'].tolist()\n",
    "len(values), values[0:3]"
   ]
  },
  {
   "cell_type": "code",
   "execution_count": 34,
   "metadata": {},
   "outputs": [],
   "source": [
    "\n",
    "def expectation(probs, values, weights):\n",
    "    k = len(probs)\n",
    "    r = np.zeros((len(values), k))\n",
    "    for prob_index ,prob, weight in zip(range(k), probs, weights):\n",
    "        r[: ,prob_index] = weight * prob.pdf(values)\n",
    "\n",
    "    rows_sums = np.sum(r, axis=1)\n",
    "\n",
    "    for i in range(r.shape[0]):\n",
    "        r[i] = r[i ] /rows_sums[i]\n",
    "\n",
    "    return r\n",
    "\n",
    "\n",
    "def maximixation(r, k, values, given_means, given_stds, given_weights):\n",
    "\n",
    "    new_w = np.sum(r, axis=0) / r.shape[0]\n",
    "\n",
    "    non_given_ws = [w for (i, w) in enumerate(new_w) if i not in given_weights]\n",
    "    given_ws = [w for (i, w) in enumerate(new_w) if i in given_weights]\n",
    "    given_calc_sum = np.sum(given_ws)\n",
    "    given_given_sum = np.sum(list(given_weights.values()))\n",
    "    given_diff = given_calc_sum - given_given_sum\n",
    "\n",
    "\n",
    "    non_given_sum = np.sum(non_given_ws)\n",
    "\n",
    "    new_w_with_given = np.copy(new_w)\n",
    "\n",
    "    for i, w in enumerate(new_w):\n",
    "        if i in given_weights:\n",
    "            new_w_with_given[i] = given_weights[i]\n",
    "            continue\n",
    "\n",
    "        weight_for_non_given = w/non_given_sum\n",
    "        add = given_diff * weight_for_non_given\n",
    "\n",
    "        new_w_with_given[i] = w + add\n",
    "\n",
    "    new_w = new_w_with_given\n",
    "    \n",
    "    new_means = np.zeros(shape=k)\n",
    "    new_std = np.zeros(shape=k)\n",
    "\n",
    "    for dist_index in range(k):\n",
    "        total_weight = new_w[dist_index] * len(values)\n",
    "        dist_rs = r[:, dist_index]\n",
    "        dist_weighted_sum = np.sum(dist_rs * values)\n",
    "\n",
    "        dist_new_mean = dist_weighted_sum / total_weight if dist_index not in given_means else  given_means[dist_index]\n",
    "        diffs = values - dist_new_mean\n",
    "        weighted_diffs_powered = np.sum(np.power(diffs, 2) * dist_rs)\n",
    "        new_means[dist_index] = dist_new_mean\n",
    "        new_std[dist_index] = weighted_diffs_powered / total_weight if dist_index not in given_stds \\\n",
    "            else np.power(given_stds[dist_index], 2)\n",
    "\n",
    "    return new_means, new_std, new_w\n",
    "\n",
    "def fit(probs, values, weights, given_means, given_stds, given_weights):\n",
    "\n",
    "    k = len(probs)\n",
    "    r = expectation(probs, values, weights)\n",
    "    return maximixation(r, k, values, given_means, given_stds, given_weights)"
   ]
  },
  {
   "cell_type": "code",
   "execution_count": 35,
   "metadata": {},
   "outputs": [
    {
     "name": "stdout",
     "output_type": "stream",
     "text": [
      "𝜇1=4.0 𝜎1=0.5 w1=0.12497035748885071\n",
      "𝜇2=9.0 𝜎2=0.5 w2=0.25\n",
      "𝜇3=15.104726104802104 𝜎3=1.5 w3=0.6250296425111493\n"
     ]
    }
   ],
   "source": [
    "def generate(values, g3_mean, initial_weights, tol=0.001, max_iter=100):\n",
    "    given_means = {0: np.float64(4.), 1: np.float64(9.)}\n",
    "    given_weights = {1: np.float64(0.25)}\n",
    "    given_stds = {0: np.float64(0.5), 1: np.float64(0.5), 2: np.float64(1.5)}\n",
    "\n",
    "    gauss_1 = norm(loc=given_means[0], scale=given_stds[0])\n",
    "    gauss_2 = norm(loc=given_means[1], scale=given_stds[1])\n",
    "    gauss_3 = norm(loc=g3_mean, scale=given_stds[2])\n",
    "    weights = [0.75/2, given_weights[1], 0.75/2]\n",
    "    weights[1]  = 0.25\n",
    "\n",
    "    prev_means = None\n",
    "    prev_stds = None\n",
    "    prev_weights = None\n",
    "\n",
    "    iter_num = 1\n",
    "    while iter_num < max_iter:\n",
    "\n",
    "        new_mean, variances, weights = fit([gauss_1, gauss_2, gauss_3], values, weights,\n",
    "                                           given_means, given_stds, given_weights)\n",
    "        new_atds = np.sqrt(variances)\n",
    "\n",
    "        gauss_1 = norm(loc=new_mean[0], scale=new_atds[0])\n",
    "        gauss_2 = norm(loc=new_mean[1], scale=new_atds[1])\n",
    "        gauss_3 = norm(loc=new_mean[2], scale=new_atds[2])\n",
    "\n",
    "        if prev_means is not None and prev_stds is not None and prev_weights is not None:\n",
    "            max_mean_change =  np.max(np.abs(prev_means - new_mean))\n",
    "            max_std_change = np.max(np.abs(prev_stds - new_atds))\n",
    "            max_weight_change = np.max(np.abs(weights - prev_weights))\n",
    "            \n",
    "\n",
    "            if max_mean_change < tol and max_std_change < tol and max_weight_change < tol:\n",
    "                break\n",
    "          \n",
    "\n",
    "\n",
    "        prev_stds = new_atds\n",
    "        prev_means = new_mean\n",
    "        prev_weights = weights\n",
    "        \n",
    "        iter_num += 1\n",
    "    return new_mean, new_atds, weights\n",
    "\n",
    "\n",
    "generated_means, generated_stds, generated_weights = generate(values=values, g3_mean=12.5, initial_weights=np.array([0.6, 0.25, 0.15]))\n",
    "for index, (mean, std, weight) in enumerate(zip(generated_means, generated_stds, generated_weights)):\n",
    "    plot_ind = index + 1\n",
    "    \n",
    "    print('𝜇{}={} 𝜎{}={} w{}={}'.format(plot_ind, mean, plot_ind, std, plot_ind, weight ))"
   ]
  },
  {
   "cell_type": "code",
   "execution_count": 37,
   "metadata": {},
   "outputs": [
    {
     "name": "stdout",
     "output_type": "stream",
     "text": [
      "𝜇1=4.0 𝜎1=0.5 w1=0.12497033317814231\n",
      "𝜇2=9.0 𝜎2=0.5 w2=0.25\n",
      "𝜇3=15.104727902539715 𝜎3=1.5 w3=0.6250296668218578\n"
     ]
    }
   ],
   "source": [
    "generated_means, generated_stds, generated_weights = generate(values=values, g3_mean=6.5, initial_weights=np.array([0.4, 0.20, 0.4]))\n",
    "for index, (mean, std, weight) in enumerate(zip(generated_means, generated_stds, generated_weights)):\n",
    "    plot_ind = index + 1\n",
    "    \n",
    "    print('𝜇{}={} 𝜎{}={} w{}={}'.format(plot_ind, mean, plot_ind, std, plot_ind, weight ))"
   ]
  },
  {
   "cell_type": "markdown",
   "metadata": {},
   "source": [
    "#### 3.B\n",
    "Plot a graph of the pdf of the distribution you inferred. Select adequate limits for the axes for this plot and explain your decision."
   ]
  },
  {
   "cell_type": "code",
   "execution_count": 154,
   "metadata": {},
   "outputs": [],
   "source": [
    "plt.plot(x, y);"
   ]
  },
  {
   "cell_type": "markdown",
   "metadata": {},
   "source": [
    "#### 3.C\n",
    "Describe two ways for generating data for a GMM random variable with:\n",
    "* centers at  $\\mu_1+3, \\mu_2+5, mu_3+7$\n",
    "* $\\sigma_1=\\sigma_2=\\sigma_3=1$\n",
    "* $w_1=w_2=w_3=0.33$"
   ]
  },
  {
   "cell_type": "markdown",
   "metadata": {},
   "source": [
    "# 3.c\n",
    "1. First selecting gaussiaon using the weights.\n",
    "   After selecting the gaussian simply sampling from its normal distribution\n",
    "    \n",
    "2. weighted sum -  summing sampling from all gaussiaons multiplied by the gauissian weight. "
   ]
  },
  {
   "cell_type": "markdown",
   "metadata": {},
   "source": [
    "#### 3.D\n",
    "Use one of the above approaches to generate 1000 points and plot a histogram of the result (decide on bins, axes etc)\n"
   ]
  },
  {
   "cell_type": "code",
   "execution_count": 38,
   "metadata": {},
   "outputs": [
    {
     "data": {
      "text/plain": [
       "1000"
      ]
     },
     "execution_count": 38,
     "metadata": {},
     "output_type": "execute_result"
    }
   ],
   "source": [
    "std1, std2, std3 = generated_stds \n",
    "mean1, mean2, mean3 = generated_means \n",
    "weight1, weight2, weight3 = 1/3, 1/3, 1/3\n",
    "#prob.pdf(values)\n",
    "thresholds = sorted([(1, 0, weight1, norm(loc=mean1 + 3, scale=1)),\n",
    "                     (2, weight1, weight1+ weight2, norm(loc=mean2+5, scale=1)),\n",
    "                      (3, weight1+ weight2, 1, norm(loc=mean3+7, scale=1))], \n",
    "                      key = lambda x: x[1])\n",
    "\n",
    "numbers = []\n",
    "\n",
    "while len(numbers) < 1000:\n",
    "    selected_weight = random.uniform(0,1)\n",
    "    \n",
    "    selected_gaussian = [gaussian for (_, start, end, gaussian) in thresholds if selected_weight >= start and selected_weight < end]\n",
    "    \n",
    "    gaussian = selected_gaussian[0]\n",
    "    numbers.append(gaussian.rvs(size=1)[0])\n",
    "       \n",
    "        \n",
    "len(numbers)"
   ]
  },
  {
   "cell_type": "code",
   "execution_count": 39,
   "metadata": {},
   "outputs": [
    {
     "data": {
      "text/plain": [
       "Text(0.5, 1.0, 'GMM')"
      ]
     },
     "execution_count": 39,
     "metadata": {},
     "output_type": "execute_result"
    },
    {
     "data": {
      "image/png": "[encoded data removed]",
      "text/plain": [
       "<Figure size 1152x432 with 1 Axes>"
      ]
     },
     "metadata": {
      "needs_background": "light"
     },
     "output_type": "display_data"
    }
   ],
   "source": [
    "fig, ax = plt.subplots(1, 1, figsize=(16, 6))\n",
    "sns.distplot(numbers, bins=20, hist=True)\n",
    "ax.set_title('GMM')"
   ]
  },
  {
   "cell_type": "markdown",
   "metadata": {},
   "source": [
    "#### 3.E - BONUS\n",
    "Use the other one to generate 1000 more points and draw two comparative histograms.\n"
   ]
  },
  {
   "cell_type": "code",
   "execution_count": 23,
   "metadata": {},
   "outputs": [
    {
     "data": {
      "text/plain": [
       "(1000,)"
      ]
     },
     "execution_count": 23,
     "metadata": {},
     "output_type": "execute_result"
    }
   ],
   "source": [
    "g1 = norm(loc=mean1 + 3, scale=1)\n",
    "g2 = norm(loc=mean2+5, scale=1)\n",
    "g3 = norm(loc=mean3+7, scale=1)\n",
    "weight1, weight2, weight3\n",
    "weighted_numbers = g1.rvs(size=1000) * weight1 + g2.rvs(size=1000) * weight2 + g3.rvs(size=1000) * weight3\n",
    "weighted_numbers.shape\n"
   ]
  },
  {
   "cell_type": "code",
   "execution_count": 24,
   "metadata": {},
   "outputs": [
    {
     "data": {
      "image/png": "[encoded data removed]",
      "text/plain": [
       "<Figure size 432x288 with 1 Axes>"
      ]
     },
     "metadata": {
      "needs_background": "light"
     },
     "output_type": "display_data"
    }
   ],
   "source": [
    "plt.hist(numbers, range(0, 30), alpha=0.5, label='GMM')\n",
    "plt.hist(weighted_numbers, range(0, 30), alpha=0.5, label='Weighted')\n",
    "plt.legend(loc='upper right')\n",
    "plt.show()\n"
   ]
  },
  {
   "cell_type": "markdown",
   "metadata": {},
   "source": [
    "### Question 4 - Normally distributed salaries"
   ]
  },
  {
   "cell_type": "markdown",
   "metadata": {},
   "source": [
    "The annual salaries of employees in a large Randomistan company are approximateley normally distributed with a mean of 70,000 RCU and a standard deviation of 30,000 RCU."
   ]
  },
  {
   "cell_type": "markdown",
   "metadata": {},
   "source": [
    "#### 4.A\n",
    "What percent of people earn less than 50,000 RCU?"
   ]
  },
  {
   "cell_type": "code",
   "execution_count": 25,
   "metadata": {},
   "outputs": [],
   "source": [
    "mean = 70000\n",
    "std = 30000\n",
    "x = 50000\n",
    "rv = norm(loc = mean, scale = std)"
   ]
  },
  {
   "cell_type": "code",
   "execution_count": 26,
   "metadata": {},
   "outputs": [
    {
     "data": {
      "text/plain": [
       "0.2524925375469229"
      ]
     },
     "execution_count": 26,
     "metadata": {},
     "output_type": "execute_result"
    }
   ],
   "source": [
    "rv.cdf(x)"
   ]
  },
  {
   "cell_type": "markdown",
   "metadata": {},
   "source": [
    "#### 4.B\n",
    "What percent of people earn between 45,000 RCU and 65,000 RCU?"
   ]
  },
  {
   "cell_type": "code",
   "execution_count": 27,
   "metadata": {},
   "outputs": [
    {
     "data": {
      "text/plain": [
       "0.23148778642545326"
      ]
     },
     "execution_count": 27,
     "metadata": {},
     "output_type": "execute_result"
    }
   ],
   "source": [
    "b1 = 45000\n",
    "b2 = 65000 \n",
    "rv.cdf(b2) - rv.cdf(b1)"
   ]
  },
  {
   "cell_type": "markdown",
   "metadata": {},
   "source": [
    "#### 4.C\n",
    "What percent of people earn more than 70,000 RCU?"
   ]
  },
  {
   "cell_type": "code",
   "execution_count": 28,
   "metadata": {},
   "outputs": [
    {
     "data": {
      "text/plain": [
       "0.5"
      ]
     },
     "execution_count": 28,
     "metadata": {},
     "output_type": "execute_result"
    }
   ],
   "source": [
    "x = 70000\n",
    "1 - rv.cdf(x)"
   ]
  },
  {
   "cell_type": "markdown",
   "metadata": {},
   "source": [
    "#### 4.D\n",
    "The company has 1000 employees. How many employees in the company do you expect to earn more than 140,000 RCU?"
   ]
  },
  {
   "cell_type": "code",
   "execution_count": 29,
   "metadata": {},
   "outputs": [
    {
     "data": {
      "text/plain": [
       "9.815328628645315"
      ]
     },
     "execution_count": 29,
     "metadata": {},
     "output_type": "execute_result"
    }
   ],
   "source": [
    "x = 140000\n",
    "percentage = 1 - rv.cdf(x)\n",
    "percentage * 1000"
   ]
  },
  {
   "cell_type": "markdown",
   "metadata": {},
   "source": [
    "#### 4.E\n",
    "A survey is performed on employees of the company. The employees are split into 20 groups of 50 employees each.\n",
    "What is the probability that more than 10 groups have an average salary between 50,000 RCU and 70,000 RCU?"
   ]
  },
  {
   "cell_type": "code",
   "execution_count": 245,
   "metadata": {},
   "outputs": [],
   "source": [
    "# b1 = 50000\n",
    "# b2 = 70000 \n",
    "# rv.cdf(b2) - rv.cdf(b1)\n",
    "#todo:"
   ]
  },
  {
   "cell_type": "markdown",
   "metadata": {},
   "source": [
    "### Question 5 - Coupon collector"
   ]
  },
  {
   "cell_type": "markdown",
   "metadata": {},
   "source": [
    "Let $T_{N}$ denote the waiting time for full single coupon collection with N different equiprobable coupon types"
   ]
  },
  {
   "cell_type": "markdown",
   "metadata": {},
   "source": [
    "#### 5.A\n",
    "Write code to compute the exact value of $E(T_{N})$"
   ]
  },
  {
   "cell_type": "code",
   "execution_count": 30,
   "metadata": {},
   "outputs": [
    {
     "data": {
      "text/plain": [
       "518.738"
      ]
     },
     "execution_count": 30,
     "metadata": {},
     "output_type": "execute_result"
    }
   ],
   "source": [
    "from fractions import Fraction\n",
    "\n",
    "def calc_harmonic(n):\n",
    "    return float(sum(Fraction(1, d) for d in range(1, n + 1)))\n",
    "\n",
    "def calc_expectation_for_coupon_collector(n):\n",
    "    return round(n * calc_harmonic(n), 3)\n",
    "\n",
    "\n",
    "n = 100\n",
    "calc_expectation_for_coupon_collector(n)"
   ]
  },
  {
   "cell_type": "markdown",
   "metadata": {},
   "source": [
    "#### 5.B\n",
    "Write code to compute the exact value of $V(T_{N})$"
   ]
  },
  {
   "cell_type": "code",
   "execution_count": 31,
   "metadata": {},
   "outputs": [
    {
     "data": {
      "text/plain": [
       "16349.84"
      ]
     },
     "execution_count": 31,
     "metadata": {},
     "output_type": "execute_result"
    }
   ],
   "source": [
    "n = 100\n",
    "def calc_coupon_variance(n):\n",
    "    return round((n**2) *( float(sum(Fraction(1, d**2) for d in range(1, n + 1)))), 2)\n",
    "\n",
    "calc_coupon_variance(n)"
   ]
  },
  {
   "cell_type": "markdown",
   "metadata": {},
   "source": [
    "#### 5.C\n",
    "Write code to exactly compute $P(T_{20}>40)$"
   ]
  },
  {
   "cell_type": "code",
   "execution_count": 32,
   "metadata": {},
   "outputs": [
    {
     "name": "stdout",
     "output_type": "stream",
     "text": [
      "P(T_20 >40) is 0.4228871419772272\n"
     ]
    }
   ],
   "source": [
    "from scipy.special import comb\n",
    "\n",
    "calc_table = {}\n",
    "def calc_x_prob_for_ks(total_num_of_cards, num_of_unseen_cards, rounds):\n",
    "    key = tuple([total_num_of_cards, num_of_unseen_cards, rounds])\n",
    "    \n",
    "    if key in calc_table:\n",
    "        return calc_table[key]\n",
    "    \n",
    "    if num_of_unseen_cards == 0:\n",
    "        return 1\n",
    "    \n",
    "    if rounds == 0:\n",
    "        return 0 \n",
    "    \n",
    "    seen_count = total_num_of_cards - num_of_unseen_cards\n",
    "    unseen_prob = num_of_unseen_cards/total_num_of_cards\n",
    "    seen_prob = seen_count/total_num_of_cards\n",
    "    \n",
    "    prob = np.sum([(seen_prob**(k-1)) * unseen_prob  * calc_x_prob_for_ks(total_num_of_cards, num_of_unseen_cards-1, rounds-1) for k in range(1, rounds)])\n",
    "    calc_table[key] = prob\n",
    "    return prob\n",
    "\n",
    "def full_coupon_collector_prob(n, rounds):\n",
    "    return calc_x_prob_for_ks(n, n-1, rounds)\n",
    "    \n",
    "prob_to_not_get_full = 1 - full_coupon_collector_prob(20, 40)\n",
    "print('P(T_20 >40) is {}'.format(prob_to_not_get_full))"
   ]
  },
  {
   "cell_type": "markdown",
   "metadata": {},
   "source": [
    "#### 5.D\n",
    "Use Chebicheff to provide a bound for the probability from C and compare the results"
   ]
  },
  {
   "cell_type": "code",
   "execution_count": 33,
   "metadata": {},
   "outputs": [
    {
     "data": {
      "text/plain": [
       "'P(T_20 > 2E) = P(T_20 > 143.91) = 0.11142791485145642'"
      ]
     },
     "execution_count": 33,
     "metadata": {},
     "output_type": "execute_result"
    }
   ],
   "source": [
    "E = calc_expectation_for_coupon_collector(20)\n",
    "'P(T_20 > 2E) = P(T_20 > {}) = {}'.format(2*E, 1/  (np.log(20) **2))"
   ]
  },
  {
   "cell_type": "code",
   "execution_count": null,
   "metadata": {},
   "outputs": [],
   "source": []
  }
 ],
 "metadata": {
  "kernelspec": {
   "display_name": "Python 3",
   "language": "python",
   "name": "python3"
  },
  "language_info": {
   "codemirror_mode": {
    "name": "ipython",
    "version": 3
   },
   "file_extension": ".py",
   "mimetype": "text/x-python",
   "name": "python",
   "nbconvert_exporter": "python",
   "pygments_lexer": "ipython3",
   "version": "3.7.4"
  }
 },
 "nbformat": 4,
 "nbformat_minor": 2
}
