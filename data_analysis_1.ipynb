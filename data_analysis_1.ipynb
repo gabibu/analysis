{
 "cells": [
  {
   "cell_type": "markdown",
   "metadata": {},
   "source": [
    "### IDs:\n",
    "Insert yours IDs to the cell below"
   ]
  },
  {
   "cell_type": "markdown",
   "metadata": {},
   "source": [
    "ID #1: 066466061\n",
    "\n",
    "ID #2:\n"
   ]
  },
  {
   "cell_type": "markdown",
   "metadata": {},
   "source": [
    "## Read the following instructions carefully:\n",
    "\n",
    "1. This jupyter notebook contains all the step by step instructions needed for this exercise.\n",
    "1. You are free to add cells.\n",
    "1. Write your functions and your answers in this jupyter notebook only.\n",
    "1. Answers to theoretical questions should be written in **markdown cells (with $\\LaTeX$ support)**.\n",
    "1. Submit this jupyter notebook only using your ID as a filename. Not to use ZIP or RAR. For example, your Moodle submission file name should look like this (two id numbers): `123456789_987654321.ipynb`."
   ]
  },
  {
   "cell_type": "markdown",
   "metadata": {},
   "source": [
    "### Question 1 - Defective products"
   ]
  },
  {
   "cell_type": "markdown",
   "metadata": {},
   "source": [
    "In a manufacturing pipeline products are 3% defective. We are interested in examining a defective product to see what goes wrong on the belt. We need to ask the facility manager to send us a set of independent samples for examination."
   ]
  },
  {
   "cell_type": "markdown",
   "metadata": {},
   "source": [
    "#### 1.A\n",
    "\n",
    "How many independent samples should we ask for in order to have a 85% probability of having at least one defective product in the batch sent? You should write a function."
   ]
  },
  {
   "cell_type": "code",
   "execution_count": 1,
   "metadata": {},
   "outputs": [],
   "source": [
    "import numpy as np \n",
    "import scipy \n",
    "from scipy import stats, optimize, interpolate\n",
    "import matplotlib.pyplot as plt\n",
    "\n",
    "def num_of_samples_required_for_k_with_confidence(sucess_pro, k, confidence):\n",
    "    \n",
    "    probs = []\n",
    "    n = 1\n",
    "    while True:\n",
    "        prob = scipy.stats.binom.sf(max(0, k-1), n, sucess_pro)\n",
    "        probs.append(prob)\n",
    "        if prob >= confidence: \n",
    "            return n, probs\n",
    "        n+= 1\n"
   ]
  },
  {
   "cell_type": "code",
   "execution_count": 2,
   "metadata": {},
   "outputs": [
    {
     "data": {
      "text/plain": [
       "63"
      ]
     },
     "execution_count": 2,
     "metadata": {},
     "output_type": "execute_result"
    }
   ],
   "source": [
    "n, _ = num_of_samples_required_for_k_with_confidence(0.03, 1, 0.85 )\n",
    "n"
   ]
  },
  {
   "cell_type": "markdown",
   "metadata": {},
   "source": [
    "#### 1.B\n",
    "Answer this part again with the following changes: products are 4% defective and we want a 95% probability of at least one defective product in the batch."
   ]
  },
  {
   "cell_type": "code",
   "execution_count": 3,
   "metadata": {},
   "outputs": [
    {
     "data": {
      "text/plain": [
       "74"
      ]
     },
     "execution_count": 3,
     "metadata": {},
     "output_type": "execute_result"
    }
   ],
   "source": [
    "res,_ = num_of_samples_required_for_k_with_confidence(0.04, 1, 0.95 )\n",
    "res"
   ]
  },
  {
   "cell_type": "markdown",
   "metadata": {},
   "source": [
    "#### 1.C \n",
    "\n",
    "Consider the following cases and calculate how many independent samples are required: \n",
    "\n",
    "1. Products are 10% defective and we want a 90% probability of at least 5 defective products in the batch.\n",
    "1. Products are 30% defective and we want a 90% probability of at least 15 defective products in the batch.\n",
    "\n",
    "Explain the difference between the two results. You should use mathematical reasoning based on the properties of distributions you saw in class and visualizations in your answer."
   ]
  },
  {
   "cell_type": "code",
   "execution_count": 4,
   "metadata": {},
   "outputs": [],
   "source": [
    "def plot_distrbution(results, threshold, k):\n",
    "\n",
    "  plt.bar(np.arange(0, len(results)),results,  color='r', label=\"Probs\")\n",
    "  plt.axhline( y=threshold, color= 'b')\n",
    "  plt.axvline( x=len(results)-1,color='b',linestyle=\"solid\", alpha = 0.5)\n",
    "  plt.ylim([0,1.0])\n",
    "  plt.xlabel(\"Number of samples\")\n",
    "  plt.ylabel((\"Probability for {} defective products\".format(k)))\n",
    "  plt.legend()\n",
    "  plt.show()"
   ]
  },
  {
   "cell_type": "code",
   "execution_count": 5,
   "metadata": {},
   "outputs": [
    {
     "data": {
      "text/plain": [
       "(78, 64)"
      ]
     },
     "execution_count": 5,
     "metadata": {},
     "output_type": "execute_result"
    }
   ],
   "source": [
    "res1, dist1 = num_of_samples_required_for_k_with_confidence(0.1, 5, 0.90)\n",
    "res2, dist2 = num_of_samples_required_for_k_with_confidence(0.3, 15, 0.90)\n",
    "\n",
    "res1, res2"
   ]
  },
  {
   "cell_type": "code",
   "execution_count": 6,
   "metadata": {},
   "outputs": [
    {
     "data": {
      "image/png": "[encoded data removed]",
      "text/plain": [
       "<Figure size 432x288 with 1 Axes>"
      ]
     },
     "metadata": {
      "needs_background": "light"
     },
     "output_type": "display_data"
    }
   ],
   "source": [
    "plot_distrbution(dist1,0.9, 5 )"
   ]
  },
  {
   "cell_type": "code",
   "execution_count": 7,
   "metadata": {},
   "outputs": [
    {
     "data": {
      "image/png": "[encoded data removed]",
      "text/plain": [
       "<Figure size 432x288 with 1 Axes>"
      ]
     },
     "metadata": {
      "needs_background": "light"
     },
     "output_type": "display_data"
    }
   ],
   "source": [
    "plot_distrbution(dist1,0.9, 15 )"
   ]
  },
  {
   "cell_type": "markdown",
   "metadata": {},
   "source": [
    "Calculation for the first case Threshold is 5: \n",
    "$$ 1-P(X\\leq 5-1) =1-\\sum_{k=1}^{4}\\binom{n}{k} p^k(1-p)^{n-k}=1-\\sum_{k=1}^{4}\\binom{n}{k} 0.1^k(0.9)^{n-k}=0.9 $$\n",
    "**$\\sum_{k=1}^{4}\\binom{n}{k} 0.1^k(0.9)^{n-k}=0.1$\n",
    " \n",
    "We can see that in the second case the number of samples is smaller.<br>\n",
    "In the second case the defect probability is 3 time larger than the first case 0.1 vs 0.3 and the target k is also 3 time larger 5 vs 15, so we can conclude that the probability for defect has stronger effect on the distribution than the number of defect required."
   ]
  },
  {
   "cell_type": "markdown",
   "metadata": {},
   "source": [
    "### Question 2 - Rent distributions in Randomistan"
   ]
  },
  {
   "cell_type": "markdown",
   "metadata": {},
   "source": [
    "The state of Randomistan conducted a survey to study the distribution of rent paid in two neighboring towns, Stochastic Heights and Random Grove, to be denoted SH and RG.<br> \n",
    "\n",
    "Here are some findings of the survey:\n",
    "* The population of SH and RG is 16,000 and 22,000 respectively. <br>\n",
    "* The mean rent in SH and RG is 6300RCU and 4200RCU respectively.\n",
    "* The median rent is 4600RCU in both towns.\n",
    "* The IQR of the rent is smaller in SH than in RG.\n",
    "\n",
    "All data generated in this question needs to be consistent with these findings."
   ]
  },
  {
   "cell_type": "markdown",
   "metadata": {},
   "source": [
    "#### 2.A\n",
    "Draw histograms that describe 2 different scenarii of possible distributions of rent in the two towns.\u000b",
    "Your histograms should:<br>\n",
    "* Use bins of 100RCU each.\n",
    "* Have at least 10 non zero bins."
   ]
  },
  {
   "cell_type": "code",
   "execution_count": 8,
   "metadata": {},
   "outputs": [],
   "source": [
    "sh_pop = 16000\n",
    "sh_mean_rent = 6300\n",
    "\n",
    "rg_pop = 22000\n",
    "rg_mean_rent = 4200\n",
    "\n",
    "median_rent = 4600"
   ]
  },
  {
   "cell_type": "code",
   "execution_count": 9,
   "metadata": {},
   "outputs": [
    {
     "name": "stderr",
     "output_type": "stream",
     "text": [
      "No handles with labels found to put in legend.\n",
      "No handles with labels found to put in legend.\n"
     ]
    },
    {
     "name": "stdout",
     "output_type": "stream",
     "text": [
      "Case 1 population: SH populationSize:16000 MeanResnt:6300.0 MedianRent:4600.0 IQR:7185.75 \n",
      "Case 1 population: RG populationSize:22000 MeanResnt:4200.0 MedianRent:4600.0 IQR:8699.75 \n",
      "Case 2 population: SH populationSize:16000 MeanResnt:6300.0 MedianRent:4600.0 IQR:7307.814766191548 \n",
      "Case 2 population: RG populationSize:22000 MeanResnt:4200.0 MedianRent:4600.0 IQR:8099.75 \n"
     ]
    },
    {
     "data": {
      "image/png": "[encoded data removed]",
      "text/plain": [
       "<Figure size 1656x432 with 2 Axes>"
      ]
     },
     "metadata": {
      "needs_background": "light"
     },
     "output_type": "display_data"
    }
   ],
   "source": [
    "import numpy as np\n",
    "from scipy.stats import iqr\n",
    "import matplotlib.pyplot as plt\n",
    "\n",
    "def generate_data_1(pop_size, median_rent, mean_rent, start_end, seed):\n",
    "    \n",
    "    q_size = int(pop_size/4)\n",
    "    \n",
    "    np.random.seed(seed=seed)\n",
    "    \n",
    "    q1 = np.random.randint(start_end[0], start_end[1], size=q_size).astype(np.float)\n",
    "\n",
    "    q2 = np.random.randint(start_end[2], start_end[3], size=q_size).astype(np.float)\n",
    "   \n",
    "    q2[-1] = median_rent\n",
    "    \n",
    "    q3 = np.random.randint(start_end[4], start_end[5], size=q_size).astype(np.float)\n",
    "    q3[0] = median_rent\n",
    "    \n",
    "    q4 = np.random.randint(start_end[6], start_end[7], size=q_size).astype(np.float)\n",
    "\n",
    "    res = np.concatenate((q1, q2, q3, q4))\n",
    "    miss = ((mean_rent * pop_size) - np.sum(res))/(q_size-1)\n",
    "    \n",
    "    if miss > 0:\n",
    "        q4[1:] += miss\n",
    "    else:\n",
    "        q2[:-1] += miss\n",
    "        \n",
    "\n",
    "    res1 = np.concatenate((q1, q2, q3, q4))\n",
    "    \n",
    "    np.random.seed(seed=None)\n",
    "    return  res1\n",
    "\n",
    "def plot_sh1(seed, start):\n",
    "    \n",
    "    start_end = [start, median_rent/2, median_rent/2, median_rent, median_rent + 1, median_rent * 2,\n",
    "                median_rent * 2 + 1, median_rent * 3]\n",
    "    \n",
    "    res = generate_data_1(sh_pop, median_rent, sh_mean_rent, start_end, seed = seed)\n",
    "    return res \n",
    "   \n",
    "def plot_rg1(seed, start):\n",
    "    \n",
    "    start_end = [\\\n",
    "                   start, 1500,\\\n",
    "                   median_rent/2, median_rent,\\\n",
    "                   \n",
    "                   median_rent + 1000, median_rent * 2,\\\n",
    "                   \n",
    "                   median_rent * 2 + 1, median_rent * 3]\n",
    "        \n",
    "    res = generate_data_1(rg_pop, median_rent, rg_mean_rent, start_end, seed = seed)\n",
    "    \n",
    "    return res \n",
    "\n",
    "def plt_population(res, case, population_name, plot_var):\n",
    "    \n",
    "    variance_text = ''\n",
    "    if plot_var:\n",
    "        variance_text = 'Variance {}'.format(np.var(res))\n",
    "        \n",
    "    print('{} population: {} populationSize:{} MeanResnt:{} MedianRent:{} IQR:{} {}'.format(case, population_name,  len(res), np.mean(res), np.median(res),\n",
    "                                                                       iqr(res), variance_text))\n",
    "    \n",
    "def scenario(ax, seed, case, start, plot_var=False):\n",
    "\n",
    "    rg1 = plot_rg1(seed, start)\n",
    "    sh1 = plot_sh1(seed, start)\n",
    "    \n",
    "    ax.legend()\n",
    "    ax.set_xlabel('rent')\n",
    "    ax.set_ylabel('frequency')\n",
    "    ax.set_title('{}'.format(case))\n",
    "\n",
    "    ax.hist(rg1, bins=np.linspace(0, 10000, num=100), color='blue', label='RG1', alpha=.9,  edgecolor='black')\n",
    "\n",
    "\n",
    "    plt_population(sh1, case, \"SH\", plot_var)\n",
    "    ax.hist(sh1, bins=np.linspace(0, 10000, num=100), color='red', label='SH1', alpha=.9,  edgecolor='black')\n",
    "    plt_population(rg1, case, \"RG\", plot_var)\n",
    "\n",
    "fig, ax = plt.subplots(ncols=2, figsize=(23,6))\n",
    "\n",
    "scenario(ax[0], 100, \"Case 1\", 500)\n",
    "scenario(ax[1], 9700, \"Case 2\", 1100)\n",
    "\n",
    "plt.legend()\n",
    "plt.show()"
   ]
  },
  {
   "cell_type": "markdown",
   "metadata": {},
   "source": [
    "#### 2.B\n",
    "Draw a histogram of a third scenario with the same properties. <br>\n",
    "In addition, in this scenario the rent in SH should have a higher variance than the rent in RG."
   ]
  },
  {
   "cell_type": "code",
   "execution_count": 10,
   "metadata": {},
   "outputs": [
    {
     "name": "stderr",
     "output_type": "stream",
     "text": [
      "No handles with labels found to put in legend.\n"
     ]
    },
    {
     "name": "stdout",
     "output_type": "stream",
     "text": [
      "1 population: SH populationSize:16000 MeanResnt:6300.0 MedianRent:4600.0 IQR:7199.75 Variance 53701905.88438697\n",
      "1 population: RG populationSize:22000 MeanResnt:4200.0 MedianRent:4600.0 IQR:8199.5 Variance 33335616.96795328\n"
     ]
    },
    {
     "data": {
      "image/png": "[encoded data removed]",
      "text/plain": [
       "<Figure size 1656x432 with 1 Axes>"
      ]
     },
     "metadata": {
      "needs_background": "light"
     },
     "output_type": "display_data"
    }
   ],
   "source": [
    "def generate_data2(pop_size, median_rent, mean_rent, start_end, seed):\n",
    "    \n",
    "    q_size = int(pop_size/4)\n",
    "    \n",
    "    np.random.seed(seed=seed)\n",
    "\n",
    "    q1 = np.random.randint(start_end[0], start_end[1], size=q_size).astype(np.float)\n",
    "\n",
    "    q2 = np.random.randint(start_end[2], start_end[3], size=q_size).astype(np.float)\n",
    "   \n",
    "    q2[-1] = median_rent\n",
    "    \n",
    "\n",
    "    q3 = np.random.randint(start_end[4], start_end[5], size=q_size).astype(np.float)\n",
    "    q3[0] = median_rent\n",
    "    \n",
    "    q4 = np.random.randint(start_end[6], start_end[7], size=q_size).astype(np.float)\n",
    "\n",
    "    res = np.concatenate((q1, q2, q3, q4))\n",
    "\n",
    "    miss = ((mean_rent * pop_size) - np.sum(res))/(q_size-1)\n",
    "\n",
    "    if miss > 0:\n",
    "        q4[1:] += miss\n",
    "    else:\n",
    "        q2[:-1] += miss\n",
    "        \n",
    "\n",
    "    res1 = np.concatenate((q1, q2, q3, q4))\n",
    "    \n",
    "    np.random.seed(seed=None)\n",
    "    return  res1\n",
    "\n",
    "def plot_sh2(seed, start):\n",
    "    \n",
    "    start_end = [start, median_rent/2,\n",
    "                 median_rent/2+1, median_rent,\n",
    "                 median_rent + 1, median_rent * 2,\n",
    "                 median_rent * 2 + 1, int(median_rent * 5.5)]\n",
    "    \n",
    "    res = generate_data2(sh_pop, median_rent, sh_mean_rent, start_end, seed = seed)\n",
    "    return res \n",
    "   \n",
    "def plot_rg2(seed, start):\n",
    "    \n",
    "    start_end = [\\\n",
    "                   start, 1500,\\\n",
    "                   median_rent/2, median_rent,\\\n",
    "                   \n",
    "                   median_rent + 1000, median_rent * 2,\\\n",
    "                   \n",
    "                   median_rent * 2 + 1, median_rent * 3]\n",
    "        \n",
    "    res = generate_data2(rg_pop, median_rent, rg_mean_rent, start_end, seed = seed)\n",
    "    \n",
    "    return res \n",
    "\n",
    "def scenario2(ax, seed, case, start1, start2, plot_var=False):\n",
    "\n",
    "    rg1 = plot_rg2(seed, start1)\n",
    "    sh1 = plot_sh2(seed, start2)\n",
    "    \n",
    "    ax.legend()\n",
    "    ax.set_xlabel('rent')\n",
    "    ax.set_ylabel('frequency')\n",
    "    ax.set_title('Case {}'.format(case))\n",
    "\n",
    "    ax.hist(rg1, bins=np.linspace(0, 10000, num=100), color='blue', label='RG1', alpha=.9,  edgecolor='black')\n",
    "\n",
    "\n",
    "    plt_population(sh1, case, \"SH\", plot_var)\n",
    "    ax.hist(sh1, bins=np.linspace(0, 10000, num=100), color='red', label='SH1', alpha=.9,  edgecolor='black')\n",
    "    plt_population(rg1, case, \"RG\", plot_var)\n",
    "\n",
    "_, ax = plt.subplots(ncols=1, figsize=(23,6))\n",
    "scenario2(ax, 1000, '1', 1000, 2000, plot_var=True)\n",
    "\n",
    "plt.legend()\n",
    "plt.show()"
   ]
  },
  {
   "cell_type": "markdown",
   "metadata": {},
   "source": [
    "The survey also examined the per household income (PHI) in these two places.<br>\n",
    "\n",
    "It found that:<br>\n",
    "* The mean of PHI in SH is 12500 and in RG is 8500.\n",
    "* The median is 12000 in SH and 8000 in RG.\n",
    "* The covariance of the rent and the PHI was observed to be as in the formula below with $\\alpha=97\\%$ and $\\alpha=89\\%$ in SH and in RG respectively.<br><br>\n",
    "$$Cov(rent, PHI) = \\alpha * \\sqrt{Var(rent)} * \\sqrt{Var(PHI)}$$\n",
    "\n",
    "#### 2.C\n",
    "Produce rent and PHI data for the two cities, that is consistent with these findings. The covariances in your data can deviate by up to 1% from the numbers given $\\alpha$."
   ]
  },
  {
   "cell_type": "code",
   "execution_count": 11,
   "metadata": {},
   "outputs": [],
   "source": [
    "def alternative_cov(alpha, x, y):\n",
    "    return (np.sqrt(np.var(x))*np.sqrt(np.var(y)))"
   ]
  },
  {
   "cell_type": "code",
   "execution_count": 14,
   "metadata": {},
   "outputs": [
    {
     "name": "stdout",
     "output_type": "stream",
     "text": [
      " population: SH - Rent populationSize:16000 MeanResnt:6300.434758767818 MedianRent:4600.0 IQR:3738.5350712678173 \n",
      " population: SH - PHI populationSize:16000 MeanResnt:12500.16565716429 MedianRent:12000.0 IQR:762.6286571642922 \n",
      " population: RG - Rent populationSize:22000 MeanResnt:4199.8517983269685 MedianRent:4600.0 IQR:2814.6092016730313 \n",
      " population: RG - PHI populationSize:22000 MeanResnt:8500.102942245698 MedianRent:8000.0 IQR:2566.182351336607 \n"
     ]
    }
   ],
   "source": [
    "sh_alpha = 0.97 \n",
    "rg_alpha = 0.89 \n",
    "sh_PHI_mean,rg_PHI_mean = 12500,8500\n",
    "sh_PHI_median,rg_PHI_median = 12000,8000\n",
    "import numpy as np\n",
    "\n",
    "def generate_data4(pop_size, mean_rent, median_rent, max_rent, quartile,start=0):\n",
    "    \n",
    "  q1 = np.random.randint(start, median_rent-quartile, size=((pop_size)//4)).astype(np.float)\n",
    "  q2 = np.random.randint(median_rent-quartile, median_rent, size=((pop_size)//4)).astype(np.float)\n",
    "  q2[-1] = median_rent\n",
    "  q3 = np.random.randint(median_rent+1, median_rent+quartile, size=((pop_size)//4)).astype(np.float)\n",
    "  q3[0] = median_rent\n",
    "  q4 = np.random.randint(median_rent+quartile, max_rent, size=((pop_size)//4)).astype(np.float)\n",
    "\n",
    "  temp = np.concatenate((q1,q2, q3,q4))\n",
    "  miss = ((mean_rent * pop_size) - np.sum(temp))/((pop_size/4)-1) \n",
    "\n",
    "  if miss>0:\n",
    "    q4 += miss\n",
    "  else:\n",
    "    q1 += miss\n",
    "  return np.concatenate((q1,q2, q3,q4))\n",
    "\n",
    "\n",
    "def generate_data5(pop_size, start_end):\n",
    "    \n",
    "  #median_arr = np.array([median_rent, median_rent])\n",
    "  q1 = np.random.randint(start_end[0], start_end[1], size=((pop_size)//4)).astype(np.float)\n",
    "  q2 = np.random.randint(start_end[2], start_end[3], size=((pop_size)//4)).astype(np.float)\n",
    "  q2[-1] = median_rent\n",
    "  q3 = np.random.randint(start_end[4], start_end[5], size=((pop_size)//4)).astype(np.float)\n",
    "  q3[0] = median_rent\n",
    "  q4 = np.random.randint(start_end[6], start_end[7], size=((pop_size)//4)).astype(np.float)\n",
    "\n",
    "  temp = np.concatenate((q1,q2, q3,q4))\n",
    "  miss = ((mean_rent * pop_size) - np.sum(temp))/((pop_size/4)-1) \n",
    "\n",
    "  if miss>0:\n",
    "    q4 += miss\n",
    "  else:\n",
    "    q1 += miss\n",
    "  return np.concatenate((q1,q2, q3,q4))\n",
    "\n",
    "sh_sample4 = generate_data4(sh_pop, sh_mean_rent, median_rent, 6500, 1000, 2400)\n",
    "sh_PHI = generate_data4(sh_pop, sh_PHI_mean, sh_PHI_median, 12700, 50,10000)\n",
    "SH_cov_rent_PHI = np.cov(sh_sample4,sh_PHI, ddof=0)[1][0]\n",
    "sh_alternative_cov = alternative_cov(sh_alpha, sh_sample4, sh_PHI)\n",
    "\n",
    "rg_sample4 = generate_data4(rg_pop, rg_mean_rent, median_rent, 9000, 1000, 3500)\n",
    "rg_PHI = generate_data4(rg_pop, rg_PHI_mean, rg_PHI_median, 13500, 1000,2000)\n",
    "\n",
    "rh_cov_rent_PHI11 = np.cov(rg_sample4,rg_PHI, ddof=0)[1][0]\n",
    "al21= alternative_cov(rg_alpha, rg_sample4, rg_PHI)\n",
    "\n",
    "\n",
    "plt_population(sh_sample4, '', \"SH - Rent\", False)\n",
    "plt_population(sh_PHI, '', \"SH - PHI\", False)\n",
    "\n",
    "plt_population(rg_sample4, '', \"RG - Rent\", False)\n",
    "plt_population(rg_PHI, '', \"RG - PHI\", False)"
   ]
  },
  {
   "cell_type": "code",
   "execution_count": 15,
   "metadata": {},
   "outputs": [
    {
     "name": "stdout",
     "output_type": "stream",
     "text": [
      "SH Covarince 5932282.805606966  Alternative Covarince 6121126.6301130885 alpha 0.97 RATIO 0.9691488453159751\n",
      "RG Covarince 7846396.722075711  Alternative Covarince 8809471.996705461 alpha 0.89 ratio 0.8906772988222316\n"
     ]
    }
   ],
   "source": [
    "print('SH Covarince {}  Alternative Covarince {} alpha {} RATIO {}'.format(SH_cov_rent_PHI, sh_alternative_cov, sh_alpha, SH_cov_rent_PHI/sh_alternative_cov))\n",
    "print('RG Covarince {}  Alternative Covarince {} alpha {} ratio {}'.format(rh_cov_rent_PHI11, al21, rg_alpha, rh_cov_rent_PHI11/al21)) \n"
   ]
  },
  {
   "cell_type": "markdown",
   "metadata": {},
   "source": [
    "#### 2.D\n",
    "Produce two heatmaps that describe these two bivariate joint distributions. Make sure you carefully consider the selected binning resolution."
   ]
  },
  {
   "cell_type": "code",
   "execution_count": 16,
   "metadata": {},
   "outputs": [
    {
     "data": {
      "image/png": "[encoded data removed]",
      "text/plain": [
       "<Figure size 1656x432 with 4 Axes>"
      ]
     },
     "metadata": {
      "needs_background": "light"
     },
     "output_type": "display_data"
    }
   ],
   "source": [
    "fig, ax = plt.subplots(ncols=2, figsize=(23,6))\n",
    "\n",
    "_, _, _, im_sh = ax[0].hist2d(sh_sample4, sh_PHI, bins=15)\n",
    "ax[0].set_xlabel('Rent')\n",
    "ax[0].set_ylabel('PHI')\n",
    "ax[0].set_title('SH')\n",
    "cbaxes = fig.add_axes([0.05, 0.15, 0.01, 0.7]) \n",
    "fig.colorbar(im_sh, ax=ax, cax=cbaxes)\n",
    "\n",
    "_, _, _, im_rg = ax[1].hist2d(rg_sample4, rg_PHI, bins=15)\n",
    "ax[1].set_xlabel('Rent')\n",
    "ax[1].set_ylabel('PHI')\n",
    "ax[1].set_title('RG')\n",
    "cbaxes = fig.add_axes([0.92, 0.15, 0.01, 0.7]) \n",
    "fig.colorbar(im_rg, ax=ax, cax=cbaxes)\n",
    "plt.show()"
   ]
  },
  {
   "cell_type": "markdown",
   "metadata": {},
   "source": [
    "### Question 3 - Covariance and independence"
   ]
  },
  {
   "cell_type": "markdown",
   "metadata": {},
   "source": [
    "What is the variance of the sum X +Y + Z of three random variables in terms of the variances of X, Y and Z and the covariances between each pair of random variables? What happens if X,Y,Z are pairwise independent? If X,Y,Z are pairwise independent, are they necessarily collectively independent? Prove your answer."
   ]
  },
  {
   "cell_type": "markdown",
   "metadata": {},
   "source": [
    "Solution: \n",
    "\n",
    "$$Var(X + Y + Z) = Var(X + Y ) + Var(Z) + 2 · Cov(X + Y, Z)= (Var(X) + Var(Y ) + 2 · Cov(X, Y )) + Var(Z) + 2 · E[(X + Y − 𝐸[X] − 𝐸[Y] )(Z − 𝐸[Z])]  $$ (1) \n",
    "\n",
    " Openning E[(X + Y − 𝐸[X] − 𝐸[Y] )(Z − 𝐸[Z])]:\n",
    "$$ E[(X + Y − 𝐸[X] − 𝐸[Y] )(Z − 𝐸[Z])] = E[(X − E[x])(Z − E[Z]) + (Y − E[Y] )(Z − E[Z])]$$\n",
    "$$= Cov(X, Z) + Cov(Y, Z)$$ (2)\n",
    "\n",
    "Putting (2) in (1):\n",
    "$$Var(X + Y + Z) = Var(X) + Var(Y ) + Var(Z) + 2Cov(X, Z) + 2Cov(Y, Z) + 2Cov(X, Z)$$ (3)\n",
    "\n",
    "If $X, $Y and Z$ $ are pairwise independent:\n",
    "$$ Cov(X, Z) = Cov(Y, Z) = Cov(X, Z) = 0$$ (4)\n",
    "\n",
    "$ putting $ (4) in (3)\n",
    "$$\\Rightarrow Var(X + Y + Z) = Var(X) + Var(Y ) + Var(Z)$$\n",
    "\n"
   ]
  },
  {
   "cell_type": "markdown",
   "metadata": {},
   "source": [
    "If $X,Y,Z$ are pairwise independant, ther are not necessarily collectively independent. <br>\n",
    "\n",
    "Proving by example:<br>\n",
    "\n",
    "Suppose X and Y are two independent tosses of a fair coin, where we designate 1 for heads and 0 for tails. Let the third random variable Z be equal to 1 if exactly one of those coin tosses resulted in \"heads\", and 0 otherwise.\n",
    "\n",
    "Then jointly the triple (X, Y, Z) has the following probability distribution:\n",
    "        \n",
    "      \n",
    "\n",
    "\n",
    "(X,Y,Z) = \\begin{cases}\n",
    "(0,0,0)\\space with \\space Probability \\space 1/4\\\\\n",
    "(0,1,1)\\space with \\space Probability \\space 1/4 \\\\\n",
    "(1,0,1)\\space with \\space Probability \\space 1/4\\\\\n",
    "(1,1,0)\\space with \\space Probability \\space 1/4\\\\\n",
    "\\end{cases}\n",
    "\n",
    "\n",
    "\n",
    "The marginal probability distributions are identical \n",
    "F(X = 0) = F(Y = 0) = F(Z=0) = 1/2  F(X=0) = F(X=1) * F(Y=1) + F(X=1) * F(Y=0)= 1/2 * 1/2 + 1/2*1/2 = 1/2 \n",
    "F(X = 1) = F(Y = 1) = F(Z=1) = 1/2\n",
    "\n",
    "The bivariate distributions are also equals.\n",
    "Fxy = Fxz = Fyz where Fxy(0,0) = Fxy(0,1) = Fxy(1,0) = Fxy(1,1) = 1/4 \n",
    "\n",
    "Since each of the pairwise joint distributions equals the product of their respective marginal distributions, the variables are pairwise independent:\n",
    "\n",
    "X and Y are independent<br>\n",
    "X and Z are independent<br>\n",
    "Y and Z are independent<br>\n",
    "\n",
    "However, X, Y, and Z are not mutually independent, since \n",
    "$${\\displaystyle f_{X,Y,Z}(x,y,z)\\neq f_{X}(x)f_{Y} (y)f_{Z}(z)}$$\n",
    "\n",
    "the left side equalling for example $$1/4 for (x, y, z) = (0, 0, 0) $$while the right side equals 1/8 for (x, y, z) = (0, 0, 0).\n"
   ]
  },
  {
   "cell_type": "markdown",
   "metadata": {},
   "source": [
    "### Question 4 - Convolutions"
   ]
  },
  {
   "cell_type": "markdown",
   "metadata": {},
   "source": [
    "#### 4.A\n",
    "Write a program, `Q = NFoldConv(P , n)`, that takes as input:\n",
    "* A distribution, P, of a random variable that takes finitely many integer values\n",
    "* An integer n\n",
    "\n",
    "and produces the distribution, Q, of the sum of n independent repeats of random variables, each of which has the distribution P."
   ]
  },
  {
   "cell_type": "code",
   "execution_count": 17,
   "metadata": {},
   "outputs": [],
   "source": [
    "def NFoldConv(P, n):\n",
    "    \n",
    "    if n <= 0:\n",
    "        return {}\n",
    "\n",
    "    new_Q = {}\n",
    "    dist_length = len(P[0])\n",
    "    if n > 1:\n",
    "        \n",
    "        prev_Q = NFoldConv(P, n - 1)\n",
    "        \n",
    "        for i in prev_Q.keys():\n",
    "            for j in range(dist_length):\n",
    "                new_Q[P[0][j] + i] = 0\n",
    "                \n",
    "        for i, q_value in prev_Q.items():  \n",
    "            for j in range(dist_length):  \n",
    "                new_Q[P[0][j] + i] += P[1][j] * q_value\n",
    "    \n",
    "    else:\n",
    "        new_Q = {P[0][i] : P[1][i] for i in range(dist_length)}\n",
    "        \n",
    "    return new_Q\n",
    "\n"
   ]
  },
  {
   "cell_type": "markdown",
   "metadata": {},
   "source": [
    "#### 4.B\n",
    "Compute the distribution of the sum of the results of rolling a fair octahedron 17 times.\n",
    "\n",
    "<img src=\"https://upload.wikimedia.org/wikipedia/commons/2/27/Octahedron.jpg\" width=\"200\">\n"
   ]
  },
  {
   "cell_type": "code",
   "execution_count": 18,
   "metadata": {},
   "outputs": [
    {
     "data": {
      "text/plain": [
       "{17: 4.440892098500626e-16,\n",
       " 18: 7.549516567451064e-15,\n",
       " 19: 6.794564910705958e-14,\n",
       " 20: 4.303224443447107e-13,\n",
       " 21: 2.1516122217235534e-12,\n",
       " 22: 9.036771331238924e-12,\n",
       " 23: 3.313482821454272e-11,\n",
       " 24: 1.088715784192118e-10,\n",
       " 25: 3.2660718574106795e-10,\n",
       " 26: 9.07134811711785e-10,\n",
       " 27: 2.3577291230481023e-09,\n",
       " 28: 5.782673007104222e-09,\n",
       " 29: 1.3473395732432891e-08,\n",
       " 30: 2.998400727705075e-08,\n",
       " 31: 6.401734875538523e-08,\n",
       " 32: 1.3161584089260714e-07,\n",
       " 33: 2.613809253482202e-07,\n",
       " 34: 5.027422242953605e-07,\n",
       " 35: 9.38663699212583e-07,\n",
       " 36: 1.7045993589981379e-06,\n",
       " 37: 3.015970226893927e-06,\n",
       " 38: 5.206881849684208e-06,\n",
       " 39: 8.783168114145923e-06,\n",
       " 40: 1.449303744882613e-05,\n",
       " 41: 2.3418493098503745e-05,\n",
       " 42: 3.7090165106334894e-05,\n",
       " 43: 5.762708941681183e-05,\n",
       " 44: 8.790117605705916e-05,\n",
       " 45: 0.00013172354057466862,\n",
       " 46: 0.0001940465160554794,\n",
       " 47: 0.000281171099826949,\n",
       " 48: 0.00040094502474907756,\n",
       " 49: 0.0005629319236253316,\n",
       " 50: 0.0007785276598544222,\n",
       " 51: 0.0010609964316725673,\n",
       " 52: 0.0014253974040241424,\n",
       " 53: 0.0018883730784566843,\n",
       " 54: 0.002467774003582779,\n",
       " 55: 0.0031821012120212266,\n",
       " 56: 0.004049758126849046,\n",
       " 57: 0.005088117430610772,\n",
       " 58: 0.006312424925249083,\n",
       " 59: 0.007734580675745839,\n",
       " 60: 0.009361856250110101,\n",
       " 61: 0.011195623843158309,\n",
       " 62: 0.013230186524219256,\n",
       " 63: 0.015451806826463077,\n",
       " 64: 0.017838031700777357,\n",
       " 65: 0.02035740428456334,\n",
       " 66: 0.022969636481963374,\n",
       " 67: 0.025626291369178045,\n",
       " 68: 0.028271992206021945,\n",
       " 69: 0.030846137527832607,\n",
       " 70: 0.033285062338742843,\n",
       " 71: 0.03552454726152865,\n",
       " 72: 0.03750254422783916,\n",
       " 73: 0.03916196231819313,\n",
       " 74: 0.0404533435000225,\n",
       " 75: 0.041337257154996365,\n",
       " 76: 0.04178625514552792,\n",
       " 77: 0.04178625514552792,\n",
       " 78: 0.041337257154996365,\n",
       " 79: 0.0404533435000225,\n",
       " 80: 0.03916196231819313,\n",
       " 81: 0.03750254422783916,\n",
       " 82: 0.03552454726152865,\n",
       " 83: 0.033285062338742843,\n",
       " 84: 0.030846137527832607,\n",
       " 85: 0.028271992206021945,\n",
       " 86: 0.025626291369178045,\n",
       " 87: 0.022969636481963374,\n",
       " 88: 0.02035740428456334,\n",
       " 89: 0.017838031700777357,\n",
       " 90: 0.015451806826463077,\n",
       " 91: 0.013230186524219256,\n",
       " 92: 0.011195623843158309,\n",
       " 93: 0.009361856250110101,\n",
       " 94: 0.007734580675745839,\n",
       " 95: 0.006312424925249083,\n",
       " 96: 0.005088117430610772,\n",
       " 97: 0.004049758126849046,\n",
       " 98: 0.0031821012120212266,\n",
       " 99: 0.002467774003582779,\n",
       " 100: 0.0018883730784566843,\n",
       " 101: 0.0014253974040241424,\n",
       " 102: 0.0010609964316725673,\n",
       " 103: 0.0007785276598544222,\n",
       " 104: 0.0005629319236253316,\n",
       " 105: 0.00040094502474907756,\n",
       " 106: 0.000281171099826949,\n",
       " 107: 0.0001940465160554794,\n",
       " 108: 0.00013172354057466862,\n",
       " 109: 8.790117605705916e-05,\n",
       " 110: 5.762708941681183e-05,\n",
       " 111: 3.7090165106334894e-05,\n",
       " 112: 2.3418493098503745e-05,\n",
       " 113: 1.449303744882613e-05,\n",
       " 114: 8.783168114145923e-06,\n",
       " 115: 5.206881849684208e-06,\n",
       " 116: 3.015970226893927e-06,\n",
       " 117: 1.7045993589981379e-06,\n",
       " 118: 9.38663699212583e-07,\n",
       " 119: 5.027422242953605e-07,\n",
       " 120: 2.613809253482202e-07,\n",
       " 121: 1.3161584089260714e-07,\n",
       " 122: 6.401734875538523e-08,\n",
       " 123: 2.998400727705075e-08,\n",
       " 124: 1.3473395732432891e-08,\n",
       " 125: 5.782673007104222e-09,\n",
       " 126: 2.3577291230481023e-09,\n",
       " 127: 9.07134811711785e-10,\n",
       " 128: 3.2660718574106795e-10,\n",
       " 129: 1.088715784192118e-10,\n",
       " 130: 3.313482821454272e-11,\n",
       " 131: 9.036771331238924e-12,\n",
       " 132: 2.1516122217235534e-12,\n",
       " 133: 4.303224443447107e-13,\n",
       " 134: 6.794564910705958e-14,\n",
       " 135: 7.549516567451064e-15,\n",
       " 136: 4.440892098500626e-16}"
      ]
     },
     "execution_count": 18,
     "metadata": {},
     "output_type": "execute_result"
    }
   ],
   "source": [
    "P2 = [[1,2,3,4,5,6,7,8],[1.0/8.0 for _ in range(8)]]\n",
    "NFoldConv(P2,17)"
   ]
  },
  {
   "cell_type": "markdown",
   "metadata": {},
   "source": [
    "#### 4.C\n",
    "Assume that the price of a stock changes in any given day according to (in NIS):\n",
    "\n",
    "$$P=\\begin{pmatrix}\n",
    "-1 & 0 & 1 & 2 & 3 \\\\\n",
    "0.3 & 0.15 & 0.15 & 0.15 & 0.25\n",
    "\\end{pmatrix}$$\n",
    "\n",
    "1. What is the distribution of the change in stock after 2 consecutive days of (independent) changes? After 5 consecutive days? "
   ]
  },
  {
   "cell_type": "code",
   "execution_count": 19,
   "metadata": {},
   "outputs": [
    {
     "name": "stdout",
     "output_type": "stream",
     "text": [
      "After 2 days:\n"
     ]
    },
    {
     "data": {
      "text/plain": [
       "{-2: 0.09,\n",
       " -1: 0.09,\n",
       " 0: 0.1125,\n",
       " 1: 0.135,\n",
       " 2: 0.21749999999999997,\n",
       " 3: 0.12,\n",
       " 4: 0.0975,\n",
       " 5: 0.075,\n",
       " 6: 0.0625}"
      ]
     },
     "execution_count": 19,
     "metadata": {},
     "output_type": "execute_result"
    }
   ],
   "source": [
    "stock_dist = [[-1,0,1,2,3],[0.3,0.15,0.15,0.15,0.25]]\n",
    "print('After 2 days:')\n",
    "NFoldConv(stock_dist,2)"
   ]
  },
  {
   "cell_type": "code",
   "execution_count": 20,
   "metadata": {},
   "outputs": [
    {
     "name": "stdout",
     "output_type": "stream",
     "text": [
      "After 5 days:\n"
     ]
    },
    {
     "data": {
      "text/plain": [
       "{-5: 0.00243,\n",
       " -4: 0.006075,\n",
       " -3: 0.012149999999999998,\n",
       " -2: 0.021262499999999997,\n",
       " -1: 0.038221874999999995,\n",
       " 0: 0.053738437499999986,\n",
       " 1: 0.07074843749999998,\n",
       " 2: 0.08720156249999998,\n",
       " 3: 0.10407656249999997,\n",
       " 4: 0.10719843749999998,\n",
       " 5: 0.10638843749999999,\n",
       " 6: 0.09968906249999998,\n",
       " 7: 0.08860781249999998,\n",
       " 8: 0.0683578125,\n",
       " 9: 0.0517078125,\n",
       " 10: 0.0363571875,\n",
       " 11: 0.0233671875,\n",
       " 12: 0.0120703125,\n",
       " 13: 0.0064453125,\n",
       " 14: 0.0029296875,\n",
       " 15: 0.0009765625}"
      ]
     },
     "execution_count": 20,
     "metadata": {},
     "output_type": "execute_result"
    }
   ],
   "source": [
    "print('After 5 days:')\n",
    "NFoldConv(stock_dist, 5)"
   ]
  },
  {
   "cell_type": "markdown",
   "metadata": {},
   "source": [
    "2. What is the probability that the stock has gained strictly more than 7NIS after 5 days? Has lost strictly more than 4NIS? Explain your answers."
   ]
  },
  {
   "cell_type": "code",
   "execution_count": 21,
   "metadata": {},
   "outputs": [],
   "source": [
    "five_days_dist = NFoldConv(stock_dist, 5)"
   ]
  },
  {
   "cell_type": "markdown",
   "metadata": {},
   "source": [
    "We first calculate the gain/loss distribution after 5 days, then for probability to gain more than 7NIS we need to sum all the probabilities of gainning more than 7NIS.\n",
    "\n",
    "For lossing more than 4NIS we need to sum all probabilities to lose more than 4NIS."
   ]
  },
  {
   "cell_type": "code",
   "execution_count": 22,
   "metadata": {},
   "outputs": [
    {
     "data": {
      "text/plain": [
       "0.202211875"
      ]
     },
     "execution_count": 22,
     "metadata": {},
     "output_type": "execute_result"
    }
   ],
   "source": [
    "np.sum([prob for (val,prob) in five_days_dist.items() if val > 7])"
   ]
  },
  {
   "cell_type": "code",
   "execution_count": 23,
   "metadata": {},
   "outputs": [
    {
     "data": {
      "text/plain": [
       "0.00243"
      ]
     },
     "execution_count": 23,
     "metadata": {},
     "output_type": "execute_result"
    }
   ],
   "source": [
    "np.sum([prob for (val,prob) in five_days_dist.items() if val < -4])"
   ]
  },
  {
   "cell_type": "code",
   "execution_count": null,
   "metadata": {},
   "outputs": [],
   "source": []
  }
 ],
 "metadata": {
  "kernelspec": {
   "display_name": "Python 3",
   "language": "python",
   "name": "python3"
  },
  "language_info": {
   "codemirror_mode": {
    "name": "ipython",
    "version": 3
   },
   "file_extension": ".py",
   "mimetype": "text/x-python",
   "name": "python",
   "nbconvert_exporter": "python",
   "pygments_lexer": "ipython3",
   "version": "3.7.4"
  }
 },
 "nbformat": 4,
 "nbformat_minor": 2
}
